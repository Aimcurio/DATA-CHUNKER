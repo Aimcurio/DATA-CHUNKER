{
  "nbformat": 4,
  "nbformat_minor": 0,
  "metadata": {
    "colab": {
      "provenance": []
    },
    "kernelspec": {
      "name": "python3",
      "display_name": "Python 3"
    },
    "language_info": {
      "name": "python"
    },
    "widgets": {
      "application/vnd.jupyter.widget-state+json": {
        "ecb38296038b4015be0242c405d85fdb": {
          "model_module": "@jupyter-widgets/controls",
          "model_name": "HBoxModel",
          "model_module_version": "1.5.0",
          "state": {
            "_dom_classes": [],
            "_model_module": "@jupyter-widgets/controls",
            "_model_module_version": "1.5.0",
            "_model_name": "HBoxModel",
            "_view_count": null,
            "_view_module": "@jupyter-widgets/controls",
            "_view_module_version": "1.5.0",
            "_view_name": "HBoxView",
            "box_style": "",
            "children": [
              "IPY_MODEL_cc93714e19c442dd8db7a865b9530aff",
              "IPY_MODEL_8f4ce546eb3242d8941c683398cf4fce",
              "IPY_MODEL_3f44d7c777c84975aa70d58bce1f60ab"
            ],
            "layout": "IPY_MODEL_97779f6779f7480a8a4543039f0db2bf"
          }
        },
        "cc93714e19c442dd8db7a865b9530aff": {
          "model_module": "@jupyter-widgets/controls",
          "model_name": "HTMLModel",
          "model_module_version": "1.5.0",
          "state": {
            "_dom_classes": [],
            "_model_module": "@jupyter-widgets/controls",
            "_model_module_version": "1.5.0",
            "_model_name": "HTMLModel",
            "_view_count": null,
            "_view_module": "@jupyter-widgets/controls",
            "_view_module_version": "1.5.0",
            "_view_name": "HTMLView",
            "description": "",
            "description_tooltip": null,
            "layout": "IPY_MODEL_1107237467f042698d78dee93be71903",
            "placeholder": "​",
            "style": "IPY_MODEL_61c4650699414f42b9e953ece95cd9a2",
            "value": "sending upsert requests: 100%"
          }
        },
        "8f4ce546eb3242d8941c683398cf4fce": {
          "model_module": "@jupyter-widgets/controls",
          "model_name": "FloatProgressModel",
          "model_module_version": "1.5.0",
          "state": {
            "_dom_classes": [],
            "_model_module": "@jupyter-widgets/controls",
            "_model_module_version": "1.5.0",
            "_model_name": "FloatProgressModel",
            "_view_count": null,
            "_view_module": "@jupyter-widgets/controls",
            "_view_module_version": "1.5.0",
            "_view_name": "ProgressView",
            "bar_style": "",
            "description": "",
            "description_tooltip": null,
            "layout": "IPY_MODEL_1db66a87c40f45c48fdee3d4ed64616f",
            "max": 80000,
            "min": 0,
            "orientation": "horizontal",
            "style": "IPY_MODEL_0a922e3cb48a48c6844cbc9408b4f21b",
            "value": 80000
          }
        },
        "3f44d7c777c84975aa70d58bce1f60ab": {
          "model_module": "@jupyter-widgets/controls",
          "model_name": "HTMLModel",
          "model_module_version": "1.5.0",
          "state": {
            "_dom_classes": [],
            "_model_module": "@jupyter-widgets/controls",
            "_model_module_version": "1.5.0",
            "_model_name": "HTMLModel",
            "_view_count": null,
            "_view_module": "@jupyter-widgets/controls",
            "_view_module_version": "1.5.0",
            "_view_name": "HTMLView",
            "description": "",
            "description_tooltip": null,
            "layout": "IPY_MODEL_a0edc2d30b2144febdb80a25de5f808e",
            "placeholder": "​",
            "style": "IPY_MODEL_81fa32cd987d4619a56fb9882f3c4a64",
            "value": " 80000/80000 [03:57&lt;00:00, 294.40it/s]"
          }
        },
        "97779f6779f7480a8a4543039f0db2bf": {
          "model_module": "@jupyter-widgets/base",
          "model_name": "LayoutModel",
          "model_module_version": "1.2.0",
          "state": {
            "_model_module": "@jupyter-widgets/base",
            "_model_module_version": "1.2.0",
            "_model_name": "LayoutModel",
            "_view_count": null,
            "_view_module": "@jupyter-widgets/base",
            "_view_module_version": "1.2.0",
            "_view_name": "LayoutView",
            "align_content": null,
            "align_items": null,
            "align_self": null,
            "border": null,
            "bottom": null,
            "display": null,
            "flex": null,
            "flex_flow": null,
            "grid_area": null,
            "grid_auto_columns": null,
            "grid_auto_flow": null,
            "grid_auto_rows": null,
            "grid_column": null,
            "grid_gap": null,
            "grid_row": null,
            "grid_template_areas": null,
            "grid_template_columns": null,
            "grid_template_rows": null,
            "height": null,
            "justify_content": null,
            "justify_items": null,
            "left": null,
            "margin": null,
            "max_height": null,
            "max_width": null,
            "min_height": null,
            "min_width": null,
            "object_fit": null,
            "object_position": null,
            "order": null,
            "overflow": null,
            "overflow_x": null,
            "overflow_y": null,
            "padding": null,
            "right": null,
            "top": null,
            "visibility": null,
            "width": null
          }
        },
        "1107237467f042698d78dee93be71903": {
          "model_module": "@jupyter-widgets/base",
          "model_name": "LayoutModel",
          "model_module_version": "1.2.0",
          "state": {
            "_model_module": "@jupyter-widgets/base",
            "_model_module_version": "1.2.0",
            "_model_name": "LayoutModel",
            "_view_count": null,
            "_view_module": "@jupyter-widgets/base",
            "_view_module_version": "1.2.0",
            "_view_name": "LayoutView",
            "align_content": null,
            "align_items": null,
            "align_self": null,
            "border": null,
            "bottom": null,
            "display": null,
            "flex": null,
            "flex_flow": null,
            "grid_area": null,
            "grid_auto_columns": null,
            "grid_auto_flow": null,
            "grid_auto_rows": null,
            "grid_column": null,
            "grid_gap": null,
            "grid_row": null,
            "grid_template_areas": null,
            "grid_template_columns": null,
            "grid_template_rows": null,
            "height": null,
            "justify_content": null,
            "justify_items": null,
            "left": null,
            "margin": null,
            "max_height": null,
            "max_width": null,
            "min_height": null,
            "min_width": null,
            "object_fit": null,
            "object_position": null,
            "order": null,
            "overflow": null,
            "overflow_x": null,
            "overflow_y": null,
            "padding": null,
            "right": null,
            "top": null,
            "visibility": null,
            "width": null
          }
        },
        "61c4650699414f42b9e953ece95cd9a2": {
          "model_module": "@jupyter-widgets/controls",
          "model_name": "DescriptionStyleModel",
          "model_module_version": "1.5.0",
          "state": {
            "_model_module": "@jupyter-widgets/controls",
            "_model_module_version": "1.5.0",
            "_model_name": "DescriptionStyleModel",
            "_view_count": null,
            "_view_module": "@jupyter-widgets/base",
            "_view_module_version": "1.2.0",
            "_view_name": "StyleView",
            "description_width": ""
          }
        },
        "1db66a87c40f45c48fdee3d4ed64616f": {
          "model_module": "@jupyter-widgets/base",
          "model_name": "LayoutModel",
          "model_module_version": "1.2.0",
          "state": {
            "_model_module": "@jupyter-widgets/base",
            "_model_module_version": "1.2.0",
            "_model_name": "LayoutModel",
            "_view_count": null,
            "_view_module": "@jupyter-widgets/base",
            "_view_module_version": "1.2.0",
            "_view_name": "LayoutView",
            "align_content": null,
            "align_items": null,
            "align_self": null,
            "border": null,
            "bottom": null,
            "display": null,
            "flex": null,
            "flex_flow": null,
            "grid_area": null,
            "grid_auto_columns": null,
            "grid_auto_flow": null,
            "grid_auto_rows": null,
            "grid_column": null,
            "grid_gap": null,
            "grid_row": null,
            "grid_template_areas": null,
            "grid_template_columns": null,
            "grid_template_rows": null,
            "height": null,
            "justify_content": null,
            "justify_items": null,
            "left": null,
            "margin": null,
            "max_height": null,
            "max_width": null,
            "min_height": null,
            "min_width": null,
            "object_fit": null,
            "object_position": null,
            "order": null,
            "overflow": null,
            "overflow_x": null,
            "overflow_y": null,
            "padding": null,
            "right": null,
            "top": null,
            "visibility": null,
            "width": null
          }
        },
        "0a922e3cb48a48c6844cbc9408b4f21b": {
          "model_module": "@jupyter-widgets/controls",
          "model_name": "ProgressStyleModel",
          "model_module_version": "1.5.0",
          "state": {
            "_model_module": "@jupyter-widgets/controls",
            "_model_module_version": "1.5.0",
            "_model_name": "ProgressStyleModel",
            "_view_count": null,
            "_view_module": "@jupyter-widgets/base",
            "_view_module_version": "1.2.0",
            "_view_name": "StyleView",
            "bar_color": null,
            "description_width": ""
          }
        },
        "a0edc2d30b2144febdb80a25de5f808e": {
          "model_module": "@jupyter-widgets/base",
          "model_name": "LayoutModel",
          "model_module_version": "1.2.0",
          "state": {
            "_model_module": "@jupyter-widgets/base",
            "_model_module_version": "1.2.0",
            "_model_name": "LayoutModel",
            "_view_count": null,
            "_view_module": "@jupyter-widgets/base",
            "_view_module_version": "1.2.0",
            "_view_name": "LayoutView",
            "align_content": null,
            "align_items": null,
            "align_self": null,
            "border": null,
            "bottom": null,
            "display": null,
            "flex": null,
            "flex_flow": null,
            "grid_area": null,
            "grid_auto_columns": null,
            "grid_auto_flow": null,
            "grid_auto_rows": null,
            "grid_column": null,
            "grid_gap": null,
            "grid_row": null,
            "grid_template_areas": null,
            "grid_template_columns": null,
            "grid_template_rows": null,
            "height": null,
            "justify_content": null,
            "justify_items": null,
            "left": null,
            "margin": null,
            "max_height": null,
            "max_width": null,
            "min_height": null,
            "min_width": null,
            "object_fit": null,
            "object_position": null,
            "order": null,
            "overflow": null,
            "overflow_x": null,
            "overflow_y": null,
            "padding": null,
            "right": null,
            "top": null,
            "visibility": null,
            "width": null
          }
        },
        "81fa32cd987d4619a56fb9882f3c4a64": {
          "model_module": "@jupyter-widgets/controls",
          "model_name": "DescriptionStyleModel",
          "model_module_version": "1.5.0",
          "state": {
            "_model_module": "@jupyter-widgets/controls",
            "_model_module_version": "1.5.0",
            "_model_name": "DescriptionStyleModel",
            "_view_count": null,
            "_view_module": "@jupyter-widgets/base",
            "_view_module_version": "1.2.0",
            "_view_name": "StyleView",
            "description_width": ""
          }
        }
      }
    },
    "gpuClass": "standard"
  },
  "cells": [
    {
      "cell_type": "markdown",
      "source": [
        "[![Open In Colab](https://colab.research.google.com/assets/colab-badge.svg)](https://colab.research.google.com/github/pinecone-io/examples/blob/master/search/semantic-search/semantic-search-fast.ipynb) [![Open nbviewer](https://raw.githubusercontent.com/pinecone-io/examples/master/assets/nbviewer-shield.svg)](https://nbviewer.org/github/pinecone-io/examples/blob/master/search/semantic-search/semantic-search-fast.ipynb)\n",
        "\n",
        "# Semantic Search (Fast)\n",
        "\n",
        "In this walkthrough we will see how to use Pinecone for semantic search. To begin we must install the required prerequisite libraries:"
      ],
      "metadata": {
        "id": "k7Lc9I6taO3k"
      }
    },
    {
      "cell_type": "code",
      "source": [
        "!pip install -qU \\\n",
        "  pinecone-client[grpc]==2.2.1 \\\n",
        "  pinecone-datasets=='0.3.1-alpha' \\\n",
        "  sentence-transformers==2.2.2"
      ],
      "metadata": {
        "id": "q03L1BYEZQfe"
      },
      "execution_count": 1,
      "outputs": []
    },
    {
      "cell_type": "markdown",
      "source": [
        "## Data Preprocessing"
      ],
      "metadata": {
        "id": "hrSfFiIC5roI"
      }
    },
    {
      "cell_type": "markdown",
      "source": [
        "The dataset preparation process requires a few steps:\n",
        "\n",
        "1. We download the Quora dataset from Hugging Face Datasets.\n",
        "\n",
        "2. The text content of the dataset is embedded into vectors.\n",
        "\n",
        "3. We reformat into a `(id, vector, metadata)` structure to be added to Pinecone.\n",
        "\n",
        "In this notebook we will skip these three steps as they can be very time consuming and jump straight into it with the prebuilt dataset from *Pinecone Datasets*. If you'd rather see how it's all done, please refer to [this notebook](https://github.com/pinecone-io/examples/blob/master/search/semantic-search/semantic-search.ipynb).\n",
        "\n",
        "Let's go ahead and download the dataset."
      ],
      "metadata": {
        "id": "kujS_e8s55oJ"
      }
    },
    {
      "cell_type": "code",
      "source": [
        "from pinecone_datasets import load_dataset\n",
        "\n",
        "dataset = load_dataset('quora_all-MiniLM-L6-bm25')\n",
        "# we drop sparse_values as they are not needed for this example\n",
        "dataset.documents.drop(['sparse_values', 'metadata'], axis=1, inplace=True)\n",
        "dataset.documents.rename(columns={'blob': 'metadata'}, inplace=True)\n",
        "# we will use 80K rows of the dataset between rows 240K -> 320K\n",
        "dataset.documents.drop(dataset.documents.index[320_000:], inplace=True)\n",
        "dataset.documents.drop(dataset.documents.index[:240_000], inplace=True)\n",
        "dataset.head()"
      ],
      "metadata": {
        "colab": {
          "base_uri": "https://localhost:8080/",
          "height": 206
        },
        "id": "lOgjRG52Zqqz",
        "outputId": "9c270159-00fd-4f47-8bce-29ee63aa51f8"
      },
      "execution_count": 2,
      "outputs": [
        {
          "output_type": "execute_result",
          "data": {
            "text/plain": [
              "            id                                             values  \\\n",
              "240000  515997  [-0.00531694, 0.06937869, -0.0092854, 0.003286...   \n",
              "240001  515998  [-0.09243751, 0.065432355, -0.06946959, 0.0669...   \n",
              "240002  515999  [-0.021924071, 0.032280188, -0.020190848, 0.07...   \n",
              "240003  516000  [-0.120020054, 0.024080949, 0.10693012, -0.018...   \n",
              "240004  516001  [-0.095293395, -0.048446465, -0.017618902, -0....   \n",
              "\n",
              "                                                 metadata  \n",
              "240000  {'text': ' Why is a \"law of sciences\" importan...  \n",
              "240001  {'text': ' Is it possible to format a BitLocke...  \n",
              "240002  {'text': ' Can formatting a hard drive stress ...  \n",
              "240003  {'text': ' Are the new Samsung Galaxy J7 and J...  \n",
              "240004  {'text': ' I just watched an add for Indonesia...  "
            ],
            "text/html": [
              "\n",
              "  <div id=\"df-797c345c-ea1f-4cd6-a507-b9880b5d0bc1\">\n",
              "    <div class=\"colab-df-container\">\n",
              "      <div>\n",
              "<style scoped>\n",
              "    .dataframe tbody tr th:only-of-type {\n",
              "        vertical-align: middle;\n",
              "    }\n",
              "\n",
              "    .dataframe tbody tr th {\n",
              "        vertical-align: top;\n",
              "    }\n",
              "\n",
              "    .dataframe thead th {\n",
              "        text-align: right;\n",
              "    }\n",
              "</style>\n",
              "<table border=\"1\" class=\"dataframe\">\n",
              "  <thead>\n",
              "    <tr style=\"text-align: right;\">\n",
              "      <th></th>\n",
              "      <th>id</th>\n",
              "      <th>values</th>\n",
              "      <th>metadata</th>\n",
              "    </tr>\n",
              "  </thead>\n",
              "  <tbody>\n",
              "    <tr>\n",
              "      <th>240000</th>\n",
              "      <td>515997</td>\n",
              "      <td>[-0.00531694, 0.06937869, -0.0092854, 0.003286...</td>\n",
              "      <td>{'text': ' Why is a \"law of sciences\" importan...</td>\n",
              "    </tr>\n",
              "    <tr>\n",
              "      <th>240001</th>\n",
              "      <td>515998</td>\n",
              "      <td>[-0.09243751, 0.065432355, -0.06946959, 0.0669...</td>\n",
              "      <td>{'text': ' Is it possible to format a BitLocke...</td>\n",
              "    </tr>\n",
              "    <tr>\n",
              "      <th>240002</th>\n",
              "      <td>515999</td>\n",
              "      <td>[-0.021924071, 0.032280188, -0.020190848, 0.07...</td>\n",
              "      <td>{'text': ' Can formatting a hard drive stress ...</td>\n",
              "    </tr>\n",
              "    <tr>\n",
              "      <th>240003</th>\n",
              "      <td>516000</td>\n",
              "      <td>[-0.120020054, 0.024080949, 0.10693012, -0.018...</td>\n",
              "      <td>{'text': ' Are the new Samsung Galaxy J7 and J...</td>\n",
              "    </tr>\n",
              "    <tr>\n",
              "      <th>240004</th>\n",
              "      <td>516001</td>\n",
              "      <td>[-0.095293395, -0.048446465, -0.017618902, -0....</td>\n",
              "      <td>{'text': ' I just watched an add for Indonesia...</td>\n",
              "    </tr>\n",
              "  </tbody>\n",
              "</table>\n",
              "</div>\n",
              "      <button class=\"colab-df-convert\" onclick=\"convertToInteractive('df-797c345c-ea1f-4cd6-a507-b9880b5d0bc1')\"\n",
              "              title=\"Convert this dataframe to an interactive table.\"\n",
              "              style=\"display:none;\">\n",
              "        \n",
              "  <svg xmlns=\"http://www.w3.org/2000/svg\" height=\"24px\"viewBox=\"0 0 24 24\"\n",
              "       width=\"24px\">\n",
              "    <path d=\"M0 0h24v24H0V0z\" fill=\"none\"/>\n",
              "    <path d=\"M18.56 5.44l.94 2.06.94-2.06 2.06-.94-2.06-.94-.94-2.06-.94 2.06-2.06.94zm-11 1L8.5 8.5l.94-2.06 2.06-.94-2.06-.94L8.5 2.5l-.94 2.06-2.06.94zm10 10l.94 2.06.94-2.06 2.06-.94-2.06-.94-.94-2.06-.94 2.06-2.06.94z\"/><path d=\"M17.41 7.96l-1.37-1.37c-.4-.4-.92-.59-1.43-.59-.52 0-1.04.2-1.43.59L10.3 9.45l-7.72 7.72c-.78.78-.78 2.05 0 2.83L4 21.41c.39.39.9.59 1.41.59.51 0 1.02-.2 1.41-.59l7.78-7.78 2.81-2.81c.8-.78.8-2.07 0-2.86zM5.41 20L4 18.59l7.72-7.72 1.47 1.35L5.41 20z\"/>\n",
              "  </svg>\n",
              "      </button>\n",
              "      \n",
              "  <style>\n",
              "    .colab-df-container {\n",
              "      display:flex;\n",
              "      flex-wrap:wrap;\n",
              "      gap: 12px;\n",
              "    }\n",
              "\n",
              "    .colab-df-convert {\n",
              "      background-color: #E8F0FE;\n",
              "      border: none;\n",
              "      border-radius: 50%;\n",
              "      cursor: pointer;\n",
              "      display: none;\n",
              "      fill: #1967D2;\n",
              "      height: 32px;\n",
              "      padding: 0 0 0 0;\n",
              "      width: 32px;\n",
              "    }\n",
              "\n",
              "    .colab-df-convert:hover {\n",
              "      background-color: #E2EBFA;\n",
              "      box-shadow: 0px 1px 2px rgba(60, 64, 67, 0.3), 0px 1px 3px 1px rgba(60, 64, 67, 0.15);\n",
              "      fill: #174EA6;\n",
              "    }\n",
              "\n",
              "    [theme=dark] .colab-df-convert {\n",
              "      background-color: #3B4455;\n",
              "      fill: #D2E3FC;\n",
              "    }\n",
              "\n",
              "    [theme=dark] .colab-df-convert:hover {\n",
              "      background-color: #434B5C;\n",
              "      box-shadow: 0px 1px 3px 1px rgba(0, 0, 0, 0.15);\n",
              "      filter: drop-shadow(0px 1px 2px rgba(0, 0, 0, 0.3));\n",
              "      fill: #FFFFFF;\n",
              "    }\n",
              "  </style>\n",
              "\n",
              "      <script>\n",
              "        const buttonEl =\n",
              "          document.querySelector('#df-797c345c-ea1f-4cd6-a507-b9880b5d0bc1 button.colab-df-convert');\n",
              "        buttonEl.style.display =\n",
              "          google.colab.kernel.accessAllowed ? 'block' : 'none';\n",
              "\n",
              "        async function convertToInteractive(key) {\n",
              "          const element = document.querySelector('#df-797c345c-ea1f-4cd6-a507-b9880b5d0bc1');\n",
              "          const dataTable =\n",
              "            await google.colab.kernel.invokeFunction('convertToInteractive',\n",
              "                                                     [key], {});\n",
              "          if (!dataTable) return;\n",
              "\n",
              "          const docLinkHtml = 'Like what you see? Visit the ' +\n",
              "            '<a target=\"_blank\" href=https://colab.research.google.com/notebooks/data_table.ipynb>data table notebook</a>'\n",
              "            + ' to learn more about interactive tables.';\n",
              "          element.innerHTML = '';\n",
              "          dataTable['output_type'] = 'display_data';\n",
              "          await google.colab.output.renderOutput(dataTable, element);\n",
              "          const docLink = document.createElement('div');\n",
              "          docLink.innerHTML = docLinkHtml;\n",
              "          element.appendChild(docLink);\n",
              "        }\n",
              "      </script>\n",
              "    </div>\n",
              "  </div>\n",
              "  "
            ]
          },
          "metadata": {},
          "execution_count": 2
        }
      ]
    },
    {
      "cell_type": "code",
      "source": [
        "len(dataset)"
      ],
      "metadata": {
        "id": "conuh2Uo-mwR",
        "outputId": "04d56579-ad3e-4a2f-a6f3-c5ccc03822df",
        "colab": {
          "base_uri": "https://localhost:8080/"
        }
      },
      "execution_count": 3,
      "outputs": [
        {
          "output_type": "execute_result",
          "data": {
            "text/plain": [
              "80000"
            ]
          },
          "metadata": {},
          "execution_count": 3
        }
      ]
    },
    {
      "cell_type": "markdown",
      "source": [
        "## Creating an Index\n",
        "\n",
        "Now the data is ready, we can set up our index to store it.\n",
        "\n",
        "We begin by initializing our connection to Pinecone. To do this we need a [free API key](https://app.pinecone.io)."
      ],
      "metadata": {
        "id": "ebd7XSamfMsC"
      }
    },
    {
      "cell_type": "code",
      "source": [
        "import os\n",
        "import pinecone\n",
        "\n",
        "# get api key from app.pinecone.io\n",
        "PINECONE_API_KEY = os.environ.get('PINECONE_API_KEY') or 'PINECONE_API_KEY'\n",
        "# find your environment next to the api key in pinecone console\n",
        "PINECONE_ENV = os.environ.get('PINECONE_ENVIRONMENT') or 'PINECONE_ENVIRONMENT'\n",
        "\n",
        "pinecone.init(\n",
        "    api_key=PINECONE_API_KEY,\n",
        "    environment=PINECONE_ENV\n",
        ")"
      ],
      "metadata": {
        "id": "mc66NEBAcQHY",
        "colab": {
          "base_uri": "https://localhost:8080/"
        },
        "outputId": "7628e695-bae0-4696-bbc5-63a2d9c49b9f"
      },
      "execution_count": 4,
      "outputs": [
        {
          "output_type": "stream",
          "name": "stderr",
          "text": [
            "/usr/local/lib/python3.10/dist-packages/pinecone/index.py:4: TqdmExperimentalWarning: Using `tqdm.autonotebook.tqdm` in notebook mode. Use `tqdm.tqdm` instead to force console mode (e.g. in jupyter console)\n",
            "  from tqdm.autonotebook import tqdm\n"
          ]
        }
      ]
    },
    {
      "cell_type": "markdown",
      "source": [
        "Now we create a new index called `semantic-search-fast`. It's important that we align the index `dimension` and `metric` parameters with those required by the `MiniLM-L6` model."
      ],
      "metadata": {
        "id": "SdaTip6CfllN"
      }
    },
    {
      "cell_type": "code",
      "source": [
        "index_name = 'semantic-search-fast'\n",
        "\n",
        "# only create index if it doesn't exist\n",
        "if index_name not in pinecone.list_indexes():\n",
        "    pinecone.create_index(\n",
        "        name=index_name,\n",
        "        dimension=len(dataset.documents.iloc[0]['values']),\n",
        "        metric='cosine'\n",
        "    )\n",
        "\n",
        "# now connect to the index\n",
        "index = pinecone.Index(index_name)"
      ],
      "metadata": {
        "id": "p1pyQh8gfm2-"
      },
      "execution_count": 14,
      "outputs": []
    },
    {
      "cell_type": "markdown",
      "source": [
        "Upsert the data:"
      ],
      "metadata": {
        "id": "YUd1VGg6i108"
      }
    },
    {
      "cell_type": "code",
      "source": [
        "index.upsert_from_dataframe(dataset.documents)"
      ],
      "metadata": {
        "colab": {
          "base_uri": "https://localhost:8080/",
          "height": 67,
          "referenced_widgets": [
            "ecb38296038b4015be0242c405d85fdb",
            "cc93714e19c442dd8db7a865b9530aff",
            "8f4ce546eb3242d8941c683398cf4fce",
            "3f44d7c777c84975aa70d58bce1f60ab",
            "97779f6779f7480a8a4543039f0db2bf",
            "1107237467f042698d78dee93be71903",
            "61c4650699414f42b9e953ece95cd9a2",
            "1db66a87c40f45c48fdee3d4ed64616f",
            "0a922e3cb48a48c6844cbc9408b4f21b",
            "a0edc2d30b2144febdb80a25de5f808e",
            "81fa32cd987d4619a56fb9882f3c4a64"
          ]
        },
        "id": "RhR6WOi1huXZ",
        "outputId": "ac771099-65d6-42ff-8f51-d1134d58b8fb"
      },
      "execution_count": 15,
      "outputs": [
        {
          "output_type": "display_data",
          "data": {
            "text/plain": [
              "sending upsert requests:   0%|          | 0/80000 [00:00<?, ?it/s]"
            ],
            "application/vnd.jupyter.widget-view+json": {
              "version_major": 2,
              "version_minor": 0,
              "model_id": "ecb38296038b4015be0242c405d85fdb"
            }
          },
          "metadata": {}
        },
        {
          "output_type": "execute_result",
          "data": {
            "text/plain": [
              "{'upserted_count': 80000}"
            ]
          },
          "metadata": {},
          "execution_count": 15
        }
      ]
    },
    {
      "cell_type": "markdown",
      "source": [
        "## Making Queries"
      ],
      "metadata": {
        "id": "VrK_IN079Vuu"
      }
    },
    {
      "cell_type": "markdown",
      "source": [
        "Now that our index is populated we can begin making queries. We are performing a semantic search for *similar questions*, so we should embed and search with another question. Let's begin."
      ],
      "metadata": {
        "id": "rr4unPAq9alb"
      }
    },
    {
      "cell_type": "code",
      "source": [
        "from sentence_transformers import SentenceTransformer\n",
        "import torch\n",
        "\n",
        "device = 'cuda' if torch.cuda.is_available() else 'cpu'\n",
        "\n",
        "model = SentenceTransformer('all-MiniLM-L6-v2', device=device)\n",
        "model"
      ],
      "metadata": {
        "colab": {
          "base_uri": "https://localhost:8080/"
        },
        "id": "Fqo_hMRZiubM",
        "outputId": "3122f88e-2166-4d65-bea7-bd3e94a5341a"
      },
      "execution_count": 16,
      "outputs": [
        {
          "output_type": "execute_result",
          "data": {
            "text/plain": [
              "SentenceTransformer(\n",
              "  (0): Transformer({'max_seq_length': 256, 'do_lower_case': False}) with Transformer model: BertModel \n",
              "  (1): Pooling({'word_embedding_dimension': 384, 'pooling_mode_cls_token': False, 'pooling_mode_mean_tokens': True, 'pooling_mode_max_tokens': False, 'pooling_mode_mean_sqrt_len_tokens': False})\n",
              "  (2): Normalize()\n",
              ")"
            ]
          },
          "metadata": {},
          "execution_count": 16
        }
      ]
    },
    {
      "cell_type": "markdown",
      "source": [
        "Now let's query."
      ],
      "metadata": {
        "id": "MP2-unZ--XJ9"
      }
    },
    {
      "cell_type": "code",
      "source": [
        "query = \"which city has the highest population in the world?\"\n",
        "\n",
        "# create the query vector\n",
        "xq = model.encode(query).tolist()\n",
        "\n",
        "# now query\n",
        "xc = index.query(xq, top_k=5, include_metadata=True)\n",
        "xc"
      ],
      "metadata": {
        "colab": {
          "base_uri": "https://localhost:8080/"
        },
        "id": "JWcO7jAK-N_1",
        "outputId": "1a5abe91-0cce-432a-eb89-35479aabb022"
      },
      "execution_count": 17,
      "outputs": [
        {
          "output_type": "execute_result",
          "data": {
            "text/plain": [
              "{'matches': [{'id': '69331',\n",
              "              'metadata': {'text': \" What's the world's largest city?\"},\n",
              "              'score': 0.78565532,\n",
              "              'values': []},\n",
              "             {'id': '69332',\n",
              "              'metadata': {'text': ' What is the biggest city?'},\n",
              "              'score': 0.727139592,\n",
              "              'values': []},\n",
              "             {'id': '84749',\n",
              "              'metadata': {'text': \" What are the world's most advanced \"\n",
              "                                   'cities?'},\n",
              "              'score': 0.709211588,\n",
              "              'values': []},\n",
              "             {'id': '109231',\n",
              "              'metadata': {'text': ' Where is the most beautiful city in the '\n",
              "                                   'world?'},\n",
              "              'score': 0.696055114,\n",
              "              'values': []},\n",
              "             {'id': '109230',\n",
              "              'metadata': {'text': ' What is the greatest, most beautiful city '\n",
              "                                   'in the world?'},\n",
              "              'score': 0.657444715,\n",
              "              'values': []}],\n",
              " 'namespace': ''}"
            ]
          },
          "metadata": {},
          "execution_count": 17
        }
      ]
    },
    {
      "cell_type": "markdown",
      "source": [
        "In the returned response `xc` we can see the most relevant questions to our particular query — we don't have any exact matches but we can see that the returned questions are similar in the topics they are asking about. We can reformat this response to be a little easier to read:"
      ],
      "metadata": {
        "id": "-XwOWcgo_QtI"
      }
    },
    {
      "cell_type": "code",
      "source": [
        "for result in xc['matches']:\n",
        "    print(f\"{round(result['score'], 2)}: {result['metadata']['text']}\")"
      ],
      "metadata": {
        "colab": {
          "base_uri": "https://localhost:8080/"
        },
        "id": "gy7isg_f-vWg",
        "outputId": "51893b90-dc3e-4ca6-c000-e306f01c6749"
      },
      "execution_count": 18,
      "outputs": [
        {
          "output_type": "stream",
          "name": "stdout",
          "text": [
            "0.79:  What's the world's largest city?\n",
            "0.73:  What is the biggest city?\n",
            "0.71:  What are the world's most advanced cities?\n",
            "0.7:  Where is the most beautiful city in the world?\n",
            "0.66:  What is the greatest, most beautiful city in the world?\n"
          ]
        }
      ]
    },
    {
      "cell_type": "markdown",
      "source": [
        "These are good results, let's try and modify the words being used to see if we still surface similar results."
      ],
      "metadata": {
        "id": "1JK5yApl_5fE"
      }
    },
    {
      "cell_type": "code",
      "source": [
        "query = \"which metropolis has the highest number of people?\"\n",
        "\n",
        "# create the query vector\n",
        "xq = model.encode(query).tolist()\n",
        "\n",
        "# now query\n",
        "xc = index.query(xq, top_k=5, include_metadata=True)\n",
        "for result in xc['matches']:\n",
        "    print(f\"{round(result['score'], 2)}: {result['metadata']['text']}\")"
      ],
      "metadata": {
        "colab": {
          "base_uri": "https://localhost:8080/"
        },
        "id": "dJbjE-iq_yMr",
        "outputId": "3667771f-8547-48f3-c0d5-c475ce41f9a7"
      },
      "execution_count": 23,
      "outputs": [
        {
          "output_type": "stream",
          "name": "stdout",
          "text": [
            "0.64:  What is the biggest city?\n",
            "0.6:  What is the most dangerous city in USA?\n",
            "0.59:  What's the world's largest city?\n",
            "0.59:  What is the most dangerous city in USA? Why?\n",
            "0.58:  What are the world's most advanced cities?\n"
          ]
        }
      ]
    },
    {
      "cell_type": "markdown",
      "source": [
        "Here we used different terms in our query than that of the returned documents. We substituted **\"city\"** for **\"metropolis\"** and **\"populated\"** for **\"number of people\"**.\n",
        "\n",
        "Despite these very different terms and *lack* of term overlap between query and returned documents — we get highly relevant results — this is the power of *semantic search*.\n",
        "\n",
        "You can go ahead and ask more questions above. When you're done, delete the index to save resources:"
      ],
      "metadata": {
        "id": "HIAxOPb-A2w_"
      }
    },
    {
      "cell_type": "code",
      "source": [
        "pinecone.delete_index(index_name)"
      ],
      "metadata": {
        "id": "-cWdeKzhAtww"
      },
      "execution_count": 24,
      "outputs": []
    },
    {
      "cell_type": "markdown",
      "source": [
        "---"
      ],
      "metadata": {
        "id": "2B0zxR6hbf5d"
      }
    }
  ]
}