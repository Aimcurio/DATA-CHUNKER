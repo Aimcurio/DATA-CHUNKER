{
 "cells": [
  {
   "attachments": {},
   "cell_type": "markdown",
   "metadata": {},
   "source": [
    "[![Open In Colab](https://colab.research.google.com/assets/colab-badge.svg)](https://colab.research.google.com/github/pinecone-io/examples/blob/master/recommendation/product-recommender/product_recommender.ipynb) [![Open nbviewer](https://raw.githubusercontent.com/pinecone-io/examples/master/assets/nbviewer-shield.svg)](https://nbviewer.org/github/pinecone-io/examples/blob/master/recommendation/product-recommender/product_recommender.ipynb)"
   ]
  },
  {
   "attachments": {},
   "cell_type": "markdown",
   "metadata": {
    "id": "YmdWGrw4t5G2"
   },
   "source": [
    "# Product Recommendation Engine"
   ]
  },
  {
   "attachments": {},
   "cell_type": "markdown",
   "metadata": {
    "id": "lXd46ecEt5G7"
   },
   "source": [
    "Learn how to build a product recommendation engine using collaborative filtering and Pinecone.\n",
    "\n",
    "In this example, we will generate product recommendations for ecommerce customers based on previous orders and trending items. This example covers preparing the vector embeddings, creating and deploying the Pinecone service, writing data to Pinecone, and finally querying Pinecone to receive a ranked list of recommended products."
   ]
  },
  {
   "attachments": {},
   "cell_type": "markdown",
   "metadata": {},
   "source": [
    "---\n",
    "\n",
    "🚨 _Note that running this on CPU is slow! If running on Google Colab you go to **Runtime > Change runtime type > Hardware accelerator > GPU** to switch to GPU._\n",
    "\n",
    "---"
   ]
  },
  {
   "attachments": {},
   "cell_type": "markdown",
   "metadata": {
    "id": "XvrvUTLvt5G7"
   },
   "source": [
    "## Data Preparation"
   ]
  },
  {
   "attachments": {},
   "cell_type": "markdown",
   "metadata": {
    "id": "dG4733cIt5G8"
   },
   "source": [
    "**Import Python Libraries**"
   ]
  },
  {
   "cell_type": "code",
   "execution_count": 1,
   "metadata": {
    "id": "emp_MSXZt5G8"
   },
   "outputs": [],
   "source": [
    "import os\n",
    "import time\n",
    "import numpy as np\n",
    "import pandas as pd\n",
    "import scipy.sparse as sparse\n",
    "import itertools"
   ]
  },
  {
   "cell_type": "code",
   "execution_count": null,
   "metadata": {},
   "outputs": [],
   "source": [
    "!pip install -qU kaggle"
   ]
  },
  {
   "cell_type": "code",
   "execution_count": null,
   "metadata": {},
   "outputs": [],
   "source": [
    "try:\n",
    "    import kaggle\n",
    "except OSError as e:\n",
    "    print(e)"
   ]
  },
  {
   "attachments": {},
   "cell_type": "markdown",
   "metadata": {},
   "source": [
    "The first time you `import kaggle` you will see an `OSError`, that is because we need to add our Kaggle credentials to the `/root/.kaggle/kaggle.json` file. You can find these credentials on [Kaggle](https://kaggle.com) by accessing your profile in the top-right corner of the page. This will download a `kaggle.json` file which contains your username and secret key. You can enter them below:"
   ]
  },
  {
   "cell_type": "code",
   "execution_count": null,
   "metadata": {},
   "outputs": [],
   "source": [
    "import json\n",
    "\n",
    "with open('/root/.kaggle/kaggle.json', 'w') as fp:\n",
    "    fp.write(json.dumps({\"username\":\"YOUR_USERNAME\",\"key\":\"YOUR_SECRET_KEY\"}))"
   ]
  },
  {
   "attachments": {},
   "cell_type": "markdown",
   "metadata": {},
   "source": [
    "Now we can download the dataset:"
   ]
  },
  {
   "cell_type": "code",
   "execution_count": null,
   "metadata": {},
   "outputs": [],
   "source": [
    "!kaggle competitions download -c instacart-market-basket-analysis"
   ]
  },
  {
   "attachments": {},
   "cell_type": "markdown",
   "metadata": {},
   "source": [
    "This downloads a set of zip files, we extract them like so:"
   ]
  },
  {
   "cell_type": "code",
   "execution_count": null,
   "metadata": {},
   "outputs": [],
   "source": [
    "import zipfile\n",
    "\n",
    "files = [\n",
    "    'instacart-market-basket-analysis.zip',\n",
    "    'order_products__train.csv.zip',\n",
    "    'order_products__prior.csv.zip',\n",
    "    'products.csv.zip',\n",
    "    'orders.csv.zip'\n",
    "]\n",
    "\n",
    "for filename in files:\n",
    "    with zipfile.ZipFile(filename, 'r') as zip_ref:\n",
    "        zip_ref.extractall('./')"
   ]
  },
  {
   "attachments": {},
   "cell_type": "markdown",
   "metadata": {},
   "source": [
    "Now we can move on to loading the dataset."
   ]
  },
  {
   "attachments": {},
   "cell_type": "markdown",
   "metadata": {
    "id": "xYHyJO15t5G-"
   },
   "source": [
    "**Load the (Example) Instacart Data**"
   ]
  },
  {
   "attachments": {},
   "cell_type": "markdown",
   "metadata": {
    "id": "Oxgd8tjXt5G-"
   },
   "source": [
    "We are going to use the [Instacart Market Basket Analysis](https://www.kaggle.com/c/instacart-market-basket-analysis/data) dataset for this task.\n",
    "\n",
    "The data used throughout this example is a set of files describing customers' orders over time. The main focus is on the *orders.csv* file, where each line represents a relation between a user and the order. In other words, each line has information on *userid* (user who made the order) and *orderid*. Note there is no information about products in this table. Product information related to specific orders is stored in the *order_product__*.csv* dataset."
   ]
  },
  {
   "cell_type": "code",
   "execution_count": 2,
   "metadata": {
    "id": "cBbbR7Rut5G_"
   },
   "outputs": [],
   "source": [
    "order_products_train = pd.read_csv('order_products__train.csv')\n",
    "order_products_prior = pd.read_csv('order_products__prior.csv')\n",
    "products = pd.read_csv('products.csv')\n",
    "orders = pd.read_csv('orders.csv')\n",
    "\n",
    "order_products = pd.concat([order_products_train, order_products_prior])"
   ]
  },
  {
   "attachments": {},
   "cell_type": "markdown",
   "metadata": {
    "id": "XecuCyNlt5HA"
   },
   "source": [
    "**Preparing data for the model**\n"
   ]
  },
  {
   "attachments": {},
   "cell_type": "markdown",
   "metadata": {
    "id": "5FV_GGjst5HA"
   },
   "source": [
    "The Collaborative Filtering model used in this example requires only users’ historical preferences on a set of items. As there is no explicit rating in the data we are using, the purchase quantity can represent a “confidence” in terms of how strong the interaction was between the user and the products.\n",
    "\n",
    "The dataframe data will store this data and will be the base for the model."
   ]
  },
  {
   "cell_type": "code",
   "execution_count": 3,
   "metadata": {
    "id": "ZjRh7RYpt5HB"
   },
   "outputs": [],
   "source": [
    "customer_order_products = pd.merge(orders, order_products, how='inner',on='order_id')\n",
    "\n",
    "# creating a table with \"confidences\"\n",
    "data = customer_order_products.groupby(['user_id', 'product_id'])[['order_id']].count().reset_index()\n",
    "data.columns=[\"user_id\", \"product_id\", \"total_orders\"]\n",
    "data.product_id = data.product_id.astype('int64')\n",
    "\n",
    "# Create a lookup frame so we can get the product names back in readable form later.\n",
    "products_lookup = products[['product_id', 'product_name']].drop_duplicates()\n",
    "products_lookup['product_id'] = products_lookup.product_id.astype('int64')"
   ]
  },
  {
   "attachments": {},
   "cell_type": "markdown",
   "metadata": {
    "id": "77lvwm0St5HC"
   },
   "source": [
    "We will create two prototype users here and add them to our data dataframe. Each user will be buying only a specific product:\n",
    "- The first user will be buying only **Mineral Water**\n",
    "- The second user will be buying baby products: **No More Tears Baby Shampoo** and **Baby Wash & Shampoo**\n",
    "\n",
    "These users will be later used for querying and examination of the model results."
   ]
  },
  {
   "cell_type": "code",
   "execution_count": 4,
   "metadata": {
    "id": "A06EfAf-t5HC",
    "outputId": "d040560e-4401-47d4-8749-fb1bb9397a29"
   },
   "outputs": [
    {
     "data": {
      "text/html": [
       "<div>\n",
       "<style scoped>\n",
       "    .dataframe tbody tr th:only-of-type {\n",
       "        vertical-align: middle;\n",
       "    }\n",
       "\n",
       "    .dataframe tbody tr th {\n",
       "        vertical-align: top;\n",
       "    }\n",
       "\n",
       "    .dataframe thead th {\n",
       "        text-align: right;\n",
       "    }\n",
       "</style>\n",
       "<table border=\"1\" class=\"dataframe\">\n",
       "  <thead>\n",
       "    <tr style=\"text-align: right;\">\n",
       "      <th></th>\n",
       "      <th>user_id</th>\n",
       "      <th>product_id</th>\n",
       "      <th>total_orders</th>\n",
       "    </tr>\n",
       "  </thead>\n",
       "  <tbody>\n",
       "    <tr>\n",
       "      <th>0</th>\n",
       "      <td>206210</td>\n",
       "      <td>22802</td>\n",
       "      <td>97</td>\n",
       "    </tr>\n",
       "    <tr>\n",
       "      <th>1</th>\n",
       "      <td>206211</td>\n",
       "      <td>26834</td>\n",
       "      <td>89</td>\n",
       "    </tr>\n",
       "    <tr>\n",
       "      <th>2</th>\n",
       "      <td>206211</td>\n",
       "      <td>12590</td>\n",
       "      <td>77</td>\n",
       "    </tr>\n",
       "  </tbody>\n",
       "</table>\n",
       "</div>"
      ],
      "text/plain": [
       "   user_id  product_id  total_orders\n",
       "0   206210       22802            97\n",
       "1   206211       26834            89\n",
       "2   206211       12590            77"
      ]
     },
     "execution_count": 4,
     "metadata": {},
     "output_type": "execute_result"
    }
   ],
   "source": [
    "data_new = pd.DataFrame([[data.user_id.max() + 1, 22802, 97],\n",
    "                         [data.user_id.max() + 2, 26834, 89],\n",
    "                         [data.user_id.max() + 2, 12590, 77]\n",
    "                        ], columns=['user_id', 'product_id', 'total_orders'])\n",
    "data_new"
   ]
  },
  {
   "cell_type": "code",
   "execution_count": 5,
   "metadata": {
    "id": "mNIJ2hq6t5HD",
    "outputId": "cf155dc8-82ba-4f29-9cba-49d8a5052db9"
   },
   "outputs": [
    {
     "data": {
      "text/html": [
       "<div>\n",
       "<style scoped>\n",
       "    .dataframe tbody tr th:only-of-type {\n",
       "        vertical-align: middle;\n",
       "    }\n",
       "\n",
       "    .dataframe tbody tr th {\n",
       "        vertical-align: top;\n",
       "    }\n",
       "\n",
       "    .dataframe thead th {\n",
       "        text-align: right;\n",
       "    }\n",
       "</style>\n",
       "<table border=\"1\" class=\"dataframe\">\n",
       "  <thead>\n",
       "    <tr style=\"text-align: right;\">\n",
       "      <th></th>\n",
       "      <th>user_id</th>\n",
       "      <th>product_id</th>\n",
       "      <th>total_orders</th>\n",
       "    </tr>\n",
       "  </thead>\n",
       "  <tbody>\n",
       "    <tr>\n",
       "      <th>13863744</th>\n",
       "      <td>206209</td>\n",
       "      <td>48697</td>\n",
       "      <td>1</td>\n",
       "    </tr>\n",
       "    <tr>\n",
       "      <th>13863745</th>\n",
       "      <td>206209</td>\n",
       "      <td>48742</td>\n",
       "      <td>2</td>\n",
       "    </tr>\n",
       "    <tr>\n",
       "      <th>13863746</th>\n",
       "      <td>206210</td>\n",
       "      <td>22802</td>\n",
       "      <td>97</td>\n",
       "    </tr>\n",
       "    <tr>\n",
       "      <th>13863747</th>\n",
       "      <td>206211</td>\n",
       "      <td>26834</td>\n",
       "      <td>89</td>\n",
       "    </tr>\n",
       "    <tr>\n",
       "      <th>13863748</th>\n",
       "      <td>206211</td>\n",
       "      <td>12590</td>\n",
       "      <td>77</td>\n",
       "    </tr>\n",
       "  </tbody>\n",
       "</table>\n",
       "</div>"
      ],
      "text/plain": [
       "          user_id  product_id  total_orders\n",
       "13863744   206209       48697             1\n",
       "13863745   206209       48742             2\n",
       "13863746   206210       22802            97\n",
       "13863747   206211       26834            89\n",
       "13863748   206211       12590            77"
      ]
     },
     "execution_count": 5,
     "metadata": {},
     "output_type": "execute_result"
    }
   ],
   "source": [
    "data = pd.concat([data, data_new]).reset_index(drop = True)\n",
    "data.tail()"
   ]
  },
  {
   "attachments": {},
   "cell_type": "markdown",
   "metadata": {
    "id": "xBC-8PFTt5HD"
   },
   "source": [
    "In the next step, we will first extract user and item unique ids, in order to create a CSR (Compressed Sparse Row) matrix. \n"
   ]
  },
  {
   "cell_type": "code",
   "execution_count": 6,
   "metadata": {
    "id": "v2_2R7zmt5HE"
   },
   "outputs": [],
   "source": [
    "users = list(np.sort(data.user_id.unique()))\n",
    "items = list(np.sort(products.product_id.unique()))\n",
    "purchases = list(data.total_orders)\n",
    "\n",
    "# create zero-based index position <-> user/item ID mappings\n",
    "index_to_user = pd.Series(users)\n",
    "\n",
    "# create reverse mappings from user/item ID to index positions\n",
    "user_to_index = pd.Series(data=index_to_user.index + 1, index=index_to_user.values)\n",
    "\n",
    "# create zero-based index position <-> item/user ID mappings\n",
    "index_to_item = pd.Series(items)\n",
    "\n",
    "# create reverse mapping from item/user ID to index positions\n",
    "item_to_index = pd.Series(data=index_to_item.index, index=index_to_item.values)\n",
    "\n",
    "# Get the rows and columns for our new matrix\n",
    "products_rows = data.product_id.astype(int)\n",
    "users_cols = data.user_id.astype(int)\n",
    "\n",
    "# Create a sparse matrix for our users and products containing number of purchases\n",
    "sparse_product_user = sparse.csr_matrix((purchases, (products_rows, users_cols)), shape=(len(items) + 1, len(users) + 1))\n",
    "sparse_product_user.data = np.nan_to_num(sparse_product_user.data, copy=False)\n",
    "\n",
    "sparse_user_product = sparse.csr_matrix((purchases, (users_cols, products_rows)), shape=(len(users) + 1, len(items) + 1))\n",
    "sparse_user_product.data = np.nan_to_num(sparse_user_product.data, copy=False)"
   ]
  },
  {
   "attachments": {},
   "cell_type": "markdown",
   "metadata": {
    "id": "VrHSgtvht5HE"
   },
   "source": [
    "## Implicit Model"
   ]
  },
  {
   "attachments": {},
   "cell_type": "markdown",
   "metadata": {
    "id": "II6wOH96t5HF"
   },
   "source": [
    "In this section we will demonstrate creation and training of a recommender model using the **implicit** library. The recommendation model is based off the algorithms described in the paper [Collaborative Filtering for Implicit Feedback Datasets](https://www.researchgate.net/publication/220765111_Collaborative_Filtering_for_Implicit_Feedback_Datasets) with performance optimizations described in [Applications of the Conjugate Gradient Method for Implicit Feedback Collaborative Filtering](https://citeseerx.ist.psu.edu/viewdoc/download?doi=10.1.1.379.6473&rep=rep1&type=pdf).\n"
   ]
  },
  {
   "cell_type": "code",
   "execution_count": 7,
   "metadata": {
    "id": "OFHfWKD9t5HF"
   },
   "outputs": [
    {
     "name": "stdout",
     "output_type": "stream",
     "text": [
      "\u001b[33mWARNING: You are using pip version 22.0.4; however, version 23.1.2 is available.\n",
      "You should consider upgrading via the '/home/jelena/.pyenv/versions/3.8.16/envs/pinecone-onboarding/bin/python3.8 -m pip install --upgrade pip' command.\u001b[0m\u001b[33m\n",
      "\u001b[0m"
     ]
    }
   ],
   "source": [
    "!pip install --qU implicit"
   ]
  },
  {
   "cell_type": "code",
   "execution_count": 8,
   "metadata": {
    "colab": {
     "referenced_widgets": [
      "f9f40f34ce41471e9385b2745c39df66"
     ]
    },
    "id": "k0GW99kxt5HF",
    "outputId": "6dccdd29-eea1-421e-d2b3-cd87c588c606"
   },
   "outputs": [
    {
     "data": {
      "application/vnd.jupyter.widget-view+json": {
       "model_id": "f99da0a2b54640f78e8bc16f6eb21918",
       "version_major": 2,
       "version_minor": 0
      },
      "text/plain": [
       "  0%|          | 0/50 [00:00<?, ?it/s]"
      ]
     },
     "metadata": {},
     "output_type": "display_data"
    }
   ],
   "source": [
    "import implicit\n",
    "from implicit import evaluation\n",
    "\n",
    "#split data into train and test sets\n",
    "train_set, test_set = evaluation.train_test_split(sparse_user_product, train_percentage=0.9)\n",
    "\n",
    "# initialize a model\n",
    "model = implicit.als.AlternatingLeastSquares(factors=100,\n",
    "                                             regularization=0.05,\n",
    "                                             iterations=50,\n",
    "                                             num_threads=1)\n",
    "\n",
    "alpha_val = 15\n",
    "train_set = (train_set * alpha_val).astype('double')\n",
    "\n",
    "# train the model on a sparse matrix of item/user/confidence weights\n",
    "model.fit(train_set, show_progress = True)"
   ]
  },
  {
   "attachments": {},
   "cell_type": "markdown",
   "metadata": {
    "id": "yN80hSojt5HF"
   },
   "source": [
    "We will evaluate the model using the inbuilt library function"
   ]
  },
  {
   "cell_type": "code",
   "execution_count": 9,
   "metadata": {
    "colab": {
     "referenced_widgets": [
      "9611edb2a0584f3e88f2c8f0aac1c86d"
     ]
    },
    "id": "BbD8of_nt5HG",
    "outputId": "7fdb7da2-a4b2-47ba-d93e-2463c9a40004"
   },
   "outputs": [
    {
     "data": {
      "application/vnd.jupyter.widget-view+json": {
       "model_id": "47547e9146c54f40a8242a49779cfe4f",
       "version_major": 2,
       "version_minor": 0
      },
      "text/plain": [
       "  0%|          | 0/192950 [00:00<?, ?it/s]"
      ]
     },
     "metadata": {},
     "output_type": "display_data"
    },
    {
     "data": {
      "text/plain": [
       "{'precision': 0.2744222469217778,\n",
       " 'map': 0.043907108017036144,\n",
       " 'ndcg': 0.14338860013526844,\n",
       " 'auc': 0.6545833891054691}"
      ]
     },
     "execution_count": 9,
     "metadata": {},
     "output_type": "execute_result"
    }
   ],
   "source": [
    "test_set = (test_set * alpha_val).astype('double')\n",
    "evaluation.ranking_metrics_at_k(model, train_set, test_set, K=100,\n",
    "                         show_progress=True, num_threads=1)"
   ]
  },
  {
   "attachments": {},
   "cell_type": "markdown",
   "metadata": {
    "id": "LNmva3Dlt5HG"
   },
   "source": [
    "This is what item and user factors look like. These vectors will be stored in our vector index later and used for recommendation."
   ]
  },
  {
   "cell_type": "code",
   "execution_count": 10,
   "metadata": {
    "id": "JUtCROQKt5HG",
    "outputId": "af356153-eed8-4457-fe64-94c1607f1abc"
   },
   "outputs": [
    {
     "data": {
      "text/plain": [
       "array([[ 2.0967076e-02,  1.5675681e-02,  2.7659893e-02, -9.3854545e-03,\n",
       "         3.9482825e-03, -3.6112599e-03,  1.9659773e-02,  9.5190024e-03,\n",
       "        -8.8245980e-03,  9.2591681e-03,  2.4385843e-02, -1.5799325e-02,\n",
       "        -3.5724377e-03,  1.3623893e-02,  2.5174504e-03, -4.2102817e-03,\n",
       "         1.7773550e-02,  8.3679482e-03,  7.1635228e-03,  9.5603624e-03,\n",
       "         2.1269219e-03,  2.5458889e-02, -5.4615783e-03, -1.3147385e-02,\n",
       "         6.6509885e-03,  3.9727605e-05,  1.9329023e-02,  2.4163781e-02,\n",
       "         5.7352367e-03,  6.9719194e-03,  1.1364637e-02,  1.5393358e-02,\n",
       "         2.2142604e-02,  2.2375317e-02,  1.8471925e-02,  1.3722002e-02,\n",
       "        -1.4020128e-02,  1.7060051e-02,  8.3400952e-03, -1.1008831e-03,\n",
       "         8.4838523e-03,  1.4199644e-02,  8.0545079e-03,  1.0264770e-03,\n",
       "         1.0547349e-02,  7.4009495e-03, -1.0270549e-02, -1.2610539e-02,\n",
       "         1.7277125e-02,  1.3249416e-02,  2.4677438e-03,  5.2130860e-03,\n",
       "        -2.1214210e-03,  4.3514427e-03, -1.8082142e-02,  6.9393422e-03,\n",
       "         2.4407882e-02,  3.3347523e-03,  1.7181242e-02, -9.6546247e-04,\n",
       "         3.1910695e-02, -2.9767543e-05,  1.8357620e-02, -1.0470812e-03,\n",
       "        -1.5146432e-03,  1.5165817e-03, -8.9510595e-03, -7.9361751e-04,\n",
       "         7.7110259e-03, -1.0673872e-03, -4.4945171e-03,  1.9208923e-02,\n",
       "         1.4684364e-02,  3.8296850e-03,  1.2705307e-02,  5.1298928e-03,\n",
       "         4.1064988e-03,  8.5609425e-03,  9.6146213e-03, -1.0714801e-02,\n",
       "         9.5741972e-03,  8.2700998e-03, -1.9161523e-03,  1.2188869e-03,\n",
       "        -4.8661106e-03, -1.3973796e-02,  4.4149593e-03, -4.0747487e-04,\n",
       "         1.1509422e-02,  8.9846635e-03,  2.2098312e-02, -3.2608733e-03,\n",
       "         1.5988898e-02,  8.1444792e-03, -1.0104860e-02,  1.6352037e-02,\n",
       "         3.0688592e-03, -2.1754855e-03,  6.4058853e-03,  6.6019483e-03],\n",
       "       [-1.5952969e-03, -4.4880447e-04,  3.3676091e-03,  7.3364801e-03,\n",
       "         4.1448330e-03,  5.6030066e-03,  6.7297043e-03,  2.8175579e-03,\n",
       "         5.0842832e-03,  3.2074447e-03,  3.5438240e-03,  6.3429405e-03,\n",
       "         4.5395968e-03,  5.9345984e-03,  6.6063046e-03,  4.0415954e-03,\n",
       "         2.0696968e-03,  7.2914255e-03,  5.7425438e-03,  4.9620736e-03,\n",
       "         5.0255745e-03,  2.1182669e-03,  4.7071348e-03,  1.3913750e-03,\n",
       "         2.4342879e-03,  4.3935818e-03,  4.3063955e-03,  2.4087469e-03,\n",
       "         4.5629349e-03,  1.4142713e-03,  4.2290897e-03,  3.8527374e-03,\n",
       "         6.4686551e-03,  2.6869001e-03,  3.7935777e-03,  1.7631650e-03,\n",
       "         5.8569736e-03,  1.0879248e-03,  1.8601447e-03,  2.7362802e-03,\n",
       "         2.8099259e-03,  1.8041125e-03,  4.1168723e-03,  4.0334644e-04,\n",
       "         1.7894475e-03,  4.0055839e-03,  4.4406671e-03,  1.8205318e-03,\n",
       "         6.1781658e-03,  2.9225315e-03,  2.4967433e-03,  3.8665852e-03,\n",
       "         4.7764294e-03,  4.6356576e-03,  5.2113207e-03,  3.4486412e-03,\n",
       "         8.2422476e-03,  2.2226302e-03,  4.8964564e-03,  7.1388381e-03,\n",
       "         6.0945530e-03,  2.6012287e-03,  5.0083492e-03,  6.7434571e-04,\n",
       "         3.6738238e-03,  6.9459053e-03,  3.2448972e-04,  1.5886929e-03,\n",
       "         3.1431844e-03,  4.5639253e-03,  2.8981981e-03,  6.5625994e-03,\n",
       "         5.1802705e-04,  1.0379470e-03,  7.1030413e-04,  4.7706836e-03,\n",
       "         6.2796217e-03,  6.0108737e-03,  8.2932897e-03,  6.6639660e-03,\n",
       "         4.3865633e-03,  1.0166859e-02,  2.6947192e-03,  4.6921535e-03,\n",
       "         1.7391854e-03,  1.4140820e-03,  3.2500378e-03,  3.7796558e-03,\n",
       "         6.9801291e-03,  8.1501221e-03,  4.4382149e-03,  8.0022551e-03,\n",
       "         3.2460804e-03, -1.2741816e-03,  6.4975056e-03,  6.3664084e-03,\n",
       "         3.2339259e-03,  5.0185192e-03,  3.5914169e-03,  4.1805361e-03]],\n",
       "      dtype=float32)"
      ]
     },
     "execution_count": 10,
     "metadata": {},
     "output_type": "execute_result"
    }
   ],
   "source": [
    "model.item_factors[1:3]"
   ]
  },
  {
   "cell_type": "code",
   "execution_count": 11,
   "metadata": {
    "id": "O3onbJmnt5HG",
    "outputId": "0c7cbbbc-eb8c-4a8f-da75-a16e62693cc3"
   },
   "outputs": [
    {
     "data": {
      "text/plain": [
       "array([[-0.4243864 ,  1.275311  ,  2.2945623 , -1.9221066 , -0.05180068,\n",
       "        -0.8445938 ,  1.0855463 ,  0.01313354, -1.0101424 , -0.20893407,\n",
       "         0.2812347 , -1.3227096 ,  0.4357777 ,  0.4142942 , -1.331063  ,\n",
       "        -0.06135667, -0.13825576, -0.13200262, -1.1354909 , -0.8584241 ,\n",
       "        -1.3404921 , -0.2551998 ,  0.48202154,  0.2657751 ,  0.69813156,\n",
       "        -0.79010475, -0.4260205 ,  2.703489  , -0.5978345 ,  1.6247606 ,\n",
       "        -1.0061824 ,  0.32616058,  1.1687564 ,  1.4741871 ,  1.5606699 ,\n",
       "         0.2605033 , -1.6973283 ,  1.1689923 , -0.1315944 , -1.1848983 ,\n",
       "        -0.0037278 , -0.6783408 ,  0.98316395, -1.9251509 ,  0.5142688 ,\n",
       "         1.0356346 ,  0.39273322, -1.5952505 , -0.2666866 ,  0.3976487 ,\n",
       "         0.7356313 ,  0.37357202,  1.4322765 , -0.649824  , -0.8761418 ,\n",
       "        -0.21579793,  1.1726382 ,  0.33400884,  1.0005614 , -0.60032487,\n",
       "         2.6428957 , -0.26784444, -0.7223507 ,  1.2930341 , -0.42270628,\n",
       "        -0.5213422 ,  0.6155089 ,  0.76245135,  1.2323232 ,  0.43451893,\n",
       "        -0.3648511 ,  0.9050596 , -0.12763081, -1.060434  , -0.413871  ,\n",
       "        -0.8586391 ,  0.6184804 ,  0.34674245, -0.7125756 , -0.66730124,\n",
       "        -0.3371619 , -0.12634476,  0.5457011 ,  0.46933475, -1.6408978 ,\n",
       "        -0.68095446, -1.0506098 ,  0.70669943, -1.7561097 ,  0.1523247 ,\n",
       "         3.1818397 , -0.90698457,  1.1657075 ,  0.92440987,  0.67617285,\n",
       "         0.8612365 , -0.12141068, -1.1327964 ,  0.8317442 ,  0.03561425],\n",
       "       [ 0.43439305,  0.3881173 , -1.6039029 , -0.92478204,  0.87778664,\n",
       "         1.5697323 , -1.1058046 ,  0.9319347 , -1.8018999 ,  0.2589296 ,\n",
       "        -0.03902489, -0.8847311 ,  0.742673  ,  0.32968295, -1.3698398 ,\n",
       "         2.918996  ,  0.26949018,  1.0447546 , -3.1682742 , -1.3135839 ,\n",
       "         1.138681  ,  1.1175251 , -0.98262227,  0.59826225,  1.3655434 ,\n",
       "        -1.8992981 ,  0.31775692,  0.3974658 ,  0.452177  ,  0.6277912 ,\n",
       "        -2.3014872 , -1.1318477 ,  0.0624814 , -0.27640176,  2.643132  ,\n",
       "         2.5260885 ,  2.0496852 ,  1.5680717 ,  2.7280016 ,  1.3166528 ,\n",
       "         2.129484  ,  0.5882174 ,  1.3481473 , -2.4381897 , -1.6035044 ,\n",
       "         3.6276896 ,  2.0898006 , -0.2527551 ,  2.0726871 ,  0.08047254,\n",
       "        -0.8588209 , -2.6745145 ,  0.25250286, -2.1650827 ,  1.1570779 ,\n",
       "        -1.1431371 , -2.5033638 ,  0.6592152 , -1.5601784 , -0.3612117 ,\n",
       "         0.5367576 ,  0.3407214 ,  0.7310544 ,  2.236914  , -0.2028312 ,\n",
       "         0.30143616,  0.77212346,  1.548265  ,  0.927659  ,  2.8931346 ,\n",
       "        -0.65037537, -1.020948  ,  1.8586168 ,  0.47861373, -0.45267576,\n",
       "        -1.4816203 , -1.0316869 ,  2.0872462 , -0.912341  , -1.1976625 ,\n",
       "        -1.1294203 ,  0.19180611,  3.262685  , -1.4020635 ,  0.23395509,\n",
       "         1.797215  ,  0.65175784,  0.13565649, -2.8600044 , -1.5993954 ,\n",
       "        -1.7840549 , -0.10182776,  1.1625388 ,  2.264299  ,  0.18131003,\n",
       "         0.913623  ,  0.27115914,  0.80065477, -0.79553014, -1.0917746 ]],\n",
       "      dtype=float32)"
      ]
     },
     "execution_count": 11,
     "metadata": {},
     "output_type": "execute_result"
    }
   ],
   "source": [
    "model.user_factors[1:3]"
   ]
  },
  {
   "attachments": {},
   "cell_type": "markdown",
   "metadata": {
    "id": "n2ymVmqct5HH"
   },
   "source": [
    "## Configure Pinecone"
   ]
  },
  {
   "attachments": {},
   "cell_type": "markdown",
   "metadata": {
    "id": "YSRAKA56t5HH"
   },
   "source": [
    "Install and setup Pinecone"
   ]
  },
  {
   "cell_type": "code",
   "execution_count": 12,
   "metadata": {
    "id": "oxZDkCjht5HH"
   },
   "outputs": [
    {
     "name": "stdout",
     "output_type": "stream",
     "text": [
      "\u001b[33mWARNING: You are using pip version 22.0.4; however, version 23.1.2 is available.\n",
      "You should consider upgrading via the '/home/jelena/.pyenv/versions/3.8.16/envs/pinecone-onboarding/bin/python3.8 -m pip install --upgrade pip' command.\u001b[0m\u001b[33m\n",
      "\u001b[0m"
     ]
    }
   ],
   "source": [
    "!pip install --qU pinecone-client"
   ]
  },
  {
   "cell_type": "code",
   "execution_count": 13,
   "metadata": {
    "id": "mOEmO-yft5HH"
   },
   "outputs": [],
   "source": [
    "import pinecone"
   ]
  },
  {
   "cell_type": "code",
   "execution_count": 14,
   "metadata": {
    "id": "3_ykVLT6t5HH"
   },
   "outputs": [],
   "source": [
    "# Load Pinecone API key\n",
    "api_key = os.getenv('PINECONE_API_KEY') or 'YOUR_API_KEY'\n",
    "# Set Pinecone environment. Find next to API key in console\n",
    "env = os.getenv('PINECONE_ENVIRONMENT') or \"YOUR_ENV\"\n",
    "\n",
    "pinecone.init(api_key=api_key, environment=env)"
   ]
  },
  {
   "attachments": {},
   "cell_type": "markdown",
   "metadata": {
    "id": "KpWkJa-Dt5HH"
   },
   "source": [
    "[Get a Pinecone API key](http://app.pinecone.io/) if you don't have one."
   ]
  },
  {
   "cell_type": "code",
   "execution_count": 15,
   "metadata": {
    "id": "By8wu8B3t5HH",
    "outputId": "57b1aa59-d440-4f83-e3bd-3170d4f39a94"
   },
   "outputs": [
    {
     "data": {
      "text/plain": [
       "[]"
      ]
     },
     "execution_count": 15,
     "metadata": {},
     "output_type": "execute_result"
    }
   ],
   "source": [
    "#List all present indexes associated with your key, should be empty on the first run\n",
    "pinecone.list_indexes()"
   ]
  },
  {
   "attachments": {},
   "cell_type": "markdown",
   "metadata": {
    "id": "YQx7UIDOt5HI"
   },
   "source": [
    "**Create an Index**"
   ]
  },
  {
   "cell_type": "code",
   "execution_count": 16,
   "metadata": {
    "id": "4VDr7Wqst5HI"
   },
   "outputs": [],
   "source": [
    "# Set a name for your index\n",
    "index_name = 'product-recommender'"
   ]
  },
  {
   "cell_type": "code",
   "execution_count": 17,
   "metadata": {
    "id": "ufHsF0o4t5HI"
   },
   "outputs": [],
   "source": [
    "# Make sure service with the same name does not exist\n",
    "if index_name in pinecone.list_indexes():\n",
    "    pinecone.delete_index(index_name)\n",
    "pinecone.create_index(name=index_name, dimension=100)"
   ]
  },
  {
   "attachments": {},
   "cell_type": "markdown",
   "metadata": {
    "id": "v50hrlJNt5HI"
   },
   "source": [
    "**Connect to the new index**"
   ]
  },
  {
   "cell_type": "code",
   "execution_count": 18,
   "metadata": {
    "id": "ONg-J3ost5HI"
   },
   "outputs": [],
   "source": [
    "index = pinecone.Index(index_name=index_name)"
   ]
  },
  {
   "attachments": {},
   "cell_type": "markdown",
   "metadata": {
    "id": "8BjfHb2Ht5HI"
   },
   "source": [
    "## Load Data"
   ]
  },
  {
   "attachments": {},
   "cell_type": "markdown",
   "metadata": {
    "id": "0-2K-g4-t5HJ"
   },
   "source": [
    "Uploading all items (products that one can buy) and displaying some examples of products and their vector representations.\n"
   ]
  },
  {
   "cell_type": "code",
   "execution_count": 19,
   "metadata": {
    "id": "NOOPF9zOt5HJ",
    "outputId": "397b0227-0394-4fd6-e97c-bbd0ba7422ea"
   },
   "outputs": [
    {
     "data": {
      "text/plain": [
       "[('1',\n",
       "  [0.02096707560122013,\n",
       "   0.015675680711865425,\n",
       "   0.027659893035888672,\n",
       "   -0.009385454468429089,\n",
       "   0.003948282450437546,\n",
       "   -0.003611259860917926,\n",
       "   0.019659772515296936,\n",
       "   0.00951900240033865,\n",
       "   -0.008824598044157028,\n",
       "   0.009259168058633804,\n",
       "   0.02438584342598915,\n",
       "   -0.015799324959516525,\n",
       "   -0.0035724376793950796,\n",
       "   0.01362389326095581,\n",
       "   0.0025174503680318594,\n",
       "   -0.004210281651467085,\n",
       "   0.017773550003767014,\n",
       "   0.008367948234081268,\n",
       "   0.007163522765040398,\n",
       "   0.009560362435877323,\n",
       "   0.0021269218996167183,\n",
       "   0.025458889082074165,\n",
       "   -0.005461578257381916,\n",
       "   -0.013147384859621525,\n",
       "   0.006650988478213549,\n",
       "   3.9727605326334015e-05,\n",
       "   0.019329022616147995,\n",
       "   0.024163780733942986,\n",
       "   0.005735236685723066,\n",
       "   0.006971919443458319,\n",
       "   0.011364636942744255,\n",
       "   0.01539335772395134,\n",
       "   0.022142603993415833,\n",
       "   0.0223753172904253,\n",
       "   0.01847192458808422,\n",
       "   0.013722001574933529,\n",
       "   -0.014020128175616264,\n",
       "   0.01706005074083805,\n",
       "   0.008340095169842243,\n",
       "   -0.0011008831206709146,\n",
       "   0.00848385225981474,\n",
       "   0.014199644327163696,\n",
       "   0.00805450789630413,\n",
       "   0.0010264769662171602,\n",
       "   0.010547349229454994,\n",
       "   0.007400949485599995,\n",
       "   -0.010270548984408379,\n",
       "   -0.012610538862645626,\n",
       "   0.017277125269174576,\n",
       "   0.013249415904283524,\n",
       "   0.002467743819579482,\n",
       "   0.005213086027652025,\n",
       "   -0.002121421042829752,\n",
       "   0.00435144267976284,\n",
       "   -0.018082141876220703,\n",
       "   0.006939342245459557,\n",
       "   0.02440788224339485,\n",
       "   0.003334752283990383,\n",
       "   0.017181241884827614,\n",
       "   -0.0009654624736867845,\n",
       "   0.031910695135593414,\n",
       "   -2.9767543310299516e-05,\n",
       "   0.018357619643211365,\n",
       "   -0.0010470811976119876,\n",
       "   -0.0015146431978791952,\n",
       "   0.0015165817458182573,\n",
       "   -0.00895105954259634,\n",
       "   -0.0007936175097711384,\n",
       "   0.007711025886237621,\n",
       "   -0.0010673871729522943,\n",
       "   -0.004494517110288143,\n",
       "   0.01920892298221588,\n",
       "   0.014684364199638367,\n",
       "   0.003829685039818287,\n",
       "   0.012705307453870773,\n",
       "   0.005129892844706774,\n",
       "   0.004106498789042234,\n",
       "   0.008560942485928535,\n",
       "   0.009614621289074421,\n",
       "   -0.010714801028370857,\n",
       "   0.009574197232723236,\n",
       "   0.008270099759101868,\n",
       "   -0.0019161523086950183,\n",
       "   0.001218886929564178,\n",
       "   -0.004866110626608133,\n",
       "   -0.013973795808851719,\n",
       "   0.004414959345012903,\n",
       "   -0.00040747487219050527,\n",
       "   0.011509422212839127,\n",
       "   0.008984663523733616,\n",
       "   0.02209831215441227,\n",
       "   -0.003260873258113861,\n",
       "   0.015988897532224655,\n",
       "   0.008144479244947433,\n",
       "   -0.010104860179126263,\n",
       "   0.016352036967873573,\n",
       "   0.0030688592232763767,\n",
       "   -0.0021754854824393988,\n",
       "   0.0064058853313326836,\n",
       "   0.006601948291063309],\n",
       "  {'title': 'Chocolate Sandwich Cookies'}),\n",
       " ('2',\n",
       "  [-0.001595296896994114,\n",
       "   -0.0004488044651225209,\n",
       "   0.0033676091115921736,\n",
       "   0.0073364800773561,\n",
       "   0.004144832957535982,\n",
       "   0.005603006575256586,\n",
       "   0.006729704327881336,\n",
       "   0.002817557891830802,\n",
       "   0.00508428318426013,\n",
       "   0.003207444678992033,\n",
       "   0.0035438239574432373,\n",
       "   0.0063429404981434345,\n",
       "   0.004539596848189831,\n",
       "   0.0059345983900129795,\n",
       "   0.006606304552406073,\n",
       "   0.004041595384478569,\n",
       "   0.00206969678401947,\n",
       "   0.007291425485163927,\n",
       "   0.005742543842643499,\n",
       "   0.004962073639035225,\n",
       "   0.005025574471801519,\n",
       "   0.002118266886100173,\n",
       "   0.004707134794443846,\n",
       "   0.001391374971717596,\n",
       "   0.0024342879187315702,\n",
       "   0.0043935817666351795,\n",
       "   0.004306395538151264,\n",
       "   0.002408746862784028,\n",
       "   0.00456293486058712,\n",
       "   0.001414271304383874,\n",
       "   0.0042290897108614445,\n",
       "   0.003852737369015813,\n",
       "   0.006468655075877905,\n",
       "   0.0026869000867009163,\n",
       "   0.003793577663600445,\n",
       "   0.00176316499710083,\n",
       "   0.005856973584741354,\n",
       "   0.0010879248147830367,\n",
       "   0.0018601446645334363,\n",
       "   0.002736280206590891,\n",
       "   0.0028099259361624718,\n",
       "   0.0018041124567389488,\n",
       "   0.004116872325539589,\n",
       "   0.0004033464356325567,\n",
       "   0.001789447502233088,\n",
       "   0.004005583934485912,\n",
       "   0.004440667107701302,\n",
       "   0.0018205317901447415,\n",
       "   0.006178165785968304,\n",
       "   0.0029225314501672983,\n",
       "   0.002496743341907859,\n",
       "   0.0038665852043777704,\n",
       "   0.004776429384946823,\n",
       "   0.004635657649487257,\n",
       "   0.005211320705711842,\n",
       "   0.00344864116050303,\n",
       "   0.008242247626185417,\n",
       "   0.0022226301953196526,\n",
       "   0.004896456375718117,\n",
       "   0.007138838060200214,\n",
       "   0.006094553042203188,\n",
       "   0.002601228654384613,\n",
       "   0.005008349195122719,\n",
       "   0.0006743457051925361,\n",
       "   0.003673823783174157,\n",
       "   0.006945905275642872,\n",
       "   0.00032448972342535853,\n",
       "   0.0015886928886175156,\n",
       "   0.0031431843526661396,\n",
       "   0.004563925322145224,\n",
       "   0.0028981980867683887,\n",
       "   0.0065625994466245174,\n",
       "   0.0005180270527489483,\n",
       "   0.0010379470186308026,\n",
       "   0.0007103041280061007,\n",
       "   0.004770683590322733,\n",
       "   0.006279621738940477,\n",
       "   0.006010873708873987,\n",
       "   0.008293289691209793,\n",
       "   0.006663965992629528,\n",
       "   0.004386563319712877,\n",
       "   0.01016685925424099,\n",
       "   0.002694719238206744,\n",
       "   0.004692153539508581,\n",
       "   0.0017391854198649526,\n",
       "   0.0014140820130705833,\n",
       "   0.0032500377856194973,\n",
       "   0.0037796557880938053,\n",
       "   0.006980129051953554,\n",
       "   0.008150122128427029,\n",
       "   0.004438214935362339,\n",
       "   0.008002255111932755,\n",
       "   0.0032460803631693125,\n",
       "   -0.0012741816462948918,\n",
       "   0.006497505586594343,\n",
       "   0.006366408430039883,\n",
       "   0.0032339259050786495,\n",
       "   0.00501851923763752,\n",
       "   0.003591416869312525,\n",
       "   0.004180536139756441],\n",
       "  {'title': 'All-Seasons Salt'})]"
      ]
     },
     "metadata": {},
     "output_type": "display_data"
    }
   ],
   "source": [
    "# Get all of the items\n",
    "all_items_titles = [{'title': title} for title in products_lookup['product_name']]\n",
    "all_items_ids = [str(product_id) for product_id in products_lookup['product_id']]\n",
    "\n",
    "# Transform items into factors\n",
    "items_factors = model.item_factors\n",
    "\n",
    "# Prepare item factors for upload\n",
    "items_to_insert = list(zip(all_items_ids, items_factors[1:].to_numpy().tolist(), all_items_titles))\n",
    "display(items_to_insert[:2])"
   ]
  },
  {
   "attachments": {},
   "cell_type": "markdown",
   "metadata": {
    "id": "YnEHPvuTt5HJ"
   },
   "source": [
    "**Insert items into the index**"
   ]
  },
  {
   "cell_type": "code",
   "execution_count": 23,
   "metadata": {
    "id": "BYwN6MI1t5HJ",
    "outputId": "ddcbfcd4-f620-414c-e59d-220dd28d9224"
   },
   "outputs": [
    {
     "name": "stdout",
     "output_type": "stream",
     "text": [
      "Index statistics before upsert: {'dimension': 100,\n",
      " 'index_fullness': 0.0,\n",
      " 'namespaces': {},\n",
      " 'total_vector_count': 0}\n"
     ]
    },
    {
     "data": {
      "application/vnd.jupyter.widget-view+json": {
       "model_id": "6196eccd542a46149aba0cb52148a2e4",
       "version_major": 2,
       "version_minor": 0
      },
      "text/plain": [
       "  0%|          | 0/497 [00:00<?, ?it/s]"
      ]
     },
     "metadata": {},
     "output_type": "display_data"
    },
    {
     "name": "stdout",
     "output_type": "stream",
     "text": [
      "Index statistics after upsert: {'dimension': 100,\n",
      " 'index_fullness': 0.0,\n",
      " 'namespaces': {'': {'vector_count': 49688}},\n",
      " 'total_vector_count': 49688}\n"
     ]
    }
   ],
   "source": [
    "from tqdm.auto import tqdm\n",
    "\n",
    "BATCH_SIZE = 100\n",
    "\n",
    "print('Index statistics before upsert:', index.describe_index_stats())\n",
    "\n",
    "for i in tqdm(range(0, len(items_to_insert), BATCH_SIZE)):\n",
    "        index.upsert(vectors=items_to_insert[i:i+BATCH_SIZE])\n",
    "\n",
    "print('Index statistics after upsert:', index.describe_index_stats())"
   ]
  },
  {
   "attachments": {},
   "cell_type": "markdown",
   "metadata": {
    "id": "ibNMrxyRt5HK"
   },
   "source": [
    "This is a helper method for analysing recommendations later.\n",
    "This method returns top N products that someone bought in the past (based on product quantity)."
   ]
  },
  {
   "cell_type": "code",
   "execution_count": 24,
   "metadata": {
    "id": "Uzgk5Od0t5HK"
   },
   "outputs": [],
   "source": [
    "def products_bought_by_user_in_the_past(user_id: int, top: int = 10):\n",
    "\n",
    "    selected = data[data.user_id == user_id].sort_values(by=['total_orders'], ascending=False)\n",
    "\n",
    "    selected['product_name'] = selected['product_id'].map(products_lookup.set_index('product_id')['product_name'])\n",
    "    selected = selected[['product_id', 'product_name', 'total_orders']].reset_index(drop=True)\n",
    "    if selected.shape[0] < top:\n",
    "        return selected\n",
    "\n",
    "    return selected[:top]"
   ]
  },
  {
   "cell_type": "code",
   "execution_count": 25,
   "metadata": {
    "id": "1Gthi5Dkt5HK",
    "outputId": "2acc3a2f-2c14-41ae-e93e-b2b3190055e2"
   },
   "outputs": [
    {
     "data": {
      "text/html": [
       "<div>\n",
       "<style scoped>\n",
       "    .dataframe tbody tr th:only-of-type {\n",
       "        vertical-align: middle;\n",
       "    }\n",
       "\n",
       "    .dataframe tbody tr th {\n",
       "        vertical-align: top;\n",
       "    }\n",
       "\n",
       "    .dataframe thead th {\n",
       "        text-align: right;\n",
       "    }\n",
       "</style>\n",
       "<table border=\"1\" class=\"dataframe\">\n",
       "  <thead>\n",
       "    <tr style=\"text-align: right;\">\n",
       "      <th></th>\n",
       "      <th>user_id</th>\n",
       "      <th>product_id</th>\n",
       "      <th>total_orders</th>\n",
       "    </tr>\n",
       "  </thead>\n",
       "  <tbody>\n",
       "    <tr>\n",
       "      <th>13863744</th>\n",
       "      <td>206209</td>\n",
       "      <td>48697</td>\n",
       "      <td>1</td>\n",
       "    </tr>\n",
       "    <tr>\n",
       "      <th>13863745</th>\n",
       "      <td>206209</td>\n",
       "      <td>48742</td>\n",
       "      <td>2</td>\n",
       "    </tr>\n",
       "    <tr>\n",
       "      <th>13863746</th>\n",
       "      <td>206210</td>\n",
       "      <td>22802</td>\n",
       "      <td>97</td>\n",
       "    </tr>\n",
       "    <tr>\n",
       "      <th>13863747</th>\n",
       "      <td>206211</td>\n",
       "      <td>26834</td>\n",
       "      <td>89</td>\n",
       "    </tr>\n",
       "    <tr>\n",
       "      <th>13863748</th>\n",
       "      <td>206211</td>\n",
       "      <td>12590</td>\n",
       "      <td>77</td>\n",
       "    </tr>\n",
       "  </tbody>\n",
       "</table>\n",
       "</div>"
      ],
      "text/plain": [
       "          user_id  product_id  total_orders\n",
       "13863744   206209       48697             1\n",
       "13863745   206209       48742             2\n",
       "13863746   206210       22802            97\n",
       "13863747   206211       26834            89\n",
       "13863748   206211       12590            77"
      ]
     },
     "execution_count": 25,
     "metadata": {},
     "output_type": "execute_result"
    }
   ],
   "source": [
    "data.tail()"
   ]
  },
  {
   "attachments": {},
   "cell_type": "markdown",
   "metadata": {
    "id": "Xah1FIs0t5HK"
   },
   "source": [
    "## Query for Recommendations"
   ]
  },
  {
   "attachments": {},
   "cell_type": "markdown",
   "metadata": {
    "id": "ULyVnHEXt5HK"
   },
   "source": [
    "We are now retrieving user factors for users that we have manually created before for testing purposes. Besides these users, we are adding a random existing user. We are also displaying these users so you can see what these factors look like."
   ]
  },
  {
   "cell_type": "code",
   "execution_count": 26,
   "metadata": {
    "id": "Wwl7yFKTt5HK",
    "outputId": "b3baef91-2d00-4231-e546-2ee966f62d4d"
   },
   "outputs": [
    {
     "data": {
      "text/plain": [
       "array([[ 2.1058037 ,  0.01496392,  0.6472299 , -0.12749648,  1.7000914 ,\n",
       "         0.63003033, -0.44502732,  2.3930714 ,  1.5038052 , -1.4855131 ,\n",
       "         0.1813116 , -0.27024838, -2.1634114 , -0.7732514 , -0.7400107 ,\n",
       "         0.09586903,  0.24753384, -0.1307145 ,  2.1177993 , -1.1922722 ,\n",
       "        -1.9040838 , -1.8427142 ,  3.3897648 , -0.09261613,  0.7281503 ,\n",
       "        -0.25183126, -1.2083504 , -1.1893312 , -1.6289816 , -0.5372712 ,\n",
       "        -0.5155484 ,  1.9106213 , -0.16083527, -0.65575653,  0.9658018 ,\n",
       "        -1.686444  , -0.23160203,  2.3291728 ,  1.2048134 , -0.08264191,\n",
       "        -0.829397  , -0.94631314, -2.0893824 ,  0.58197784,  2.0402133 ,\n",
       "         1.2590383 , -2.245782  ,  1.2001114 ,  1.9336653 , -0.60793036,\n",
       "         1.7353134 , -0.64028996,  1.6792128 , -1.848569  , -1.0521588 ,\n",
       "         1.0003314 , -0.12361024, -0.22226357,  0.56298137,  0.4318341 ,\n",
       "        -2.9131813 ,  0.08957183,  1.9043449 ,  0.07440718,  0.05985835,\n",
       "        -2.047578  , -0.0182818 ,  2.198715  , -0.27908656,  0.56315887,\n",
       "        -1.2708986 ,  2.2319114 ,  1.812133  ,  0.88832694, -0.6513288 ,\n",
       "         0.7531826 ,  0.16416766, -0.8654479 , -0.689208  ,  0.21186917,\n",
       "        -0.3234763 , -0.61329514,  2.756331  , -0.37749407, -0.48694658,\n",
       "        -2.6173494 , -3.1588824 ,  2.478059  ,  0.8582199 , -1.1219752 ,\n",
       "        -2.4172072 , -0.99808544, -1.2628487 ,  0.04269451,  1.7208956 ,\n",
       "        -0.02780385,  1.8110341 , -0.63964534,  0.33358163,  0.15844886],\n",
       "       [ 1.7386345 ,  0.57607216,  2.0935273 , -3.4976175 ,  1.1910067 ,\n",
       "         3.8243303 ,  0.24447714,  0.9395498 , -1.0540916 , -1.7450241 ,\n",
       "        -0.10614086, -0.3943577 , -1.1815529 ,  0.5229909 , -0.04432743,\n",
       "        -0.04334444,  0.5728586 ,  1.8261352 , -1.16148   , -1.6316768 ,\n",
       "        -1.1084235 ,  2.0797544 ,  1.2931035 ,  0.4824224 ,  0.864301  ,\n",
       "        -0.83186996,  2.8631566 , -1.058088  ,  0.04806707,  0.29543442,\n",
       "        -1.8840568 , -0.94308394, -2.2345579 ,  0.31392348,  2.0498612 ,\n",
       "        -2.1379642 , -0.5893098 , -0.15980864, -1.5674851 ,  0.9347155 ,\n",
       "         1.2087426 ,  0.902094  ,  2.5097432 , -0.7128001 , -2.9207609 ,\n",
       "         1.3871217 , -0.96150243,  0.93334043,  1.3542001 , -1.3557646 ,\n",
       "         0.39296335, -1.0852821 ,  0.08836321, -1.9561981 ,  1.7731072 ,\n",
       "         0.13559002, -0.9627618 ,  0.32860494, -1.3496475 , -0.65102184,\n",
       "         1.6065832 ,  0.40833363,  0.00561066,  1.444506  , -1.708475  ,\n",
       "         0.12960264,  1.7727975 , -0.3269162 ,  0.66522264,  1.7250084 ,\n",
       "         0.44315502,  0.4935433 ,  2.1428795 ,  1.8283249 ,  0.11109549,\n",
       "        -1.3379494 ,  1.8180647 , -0.6760182 , -0.42896736, -1.0965525 ,\n",
       "         1.7523532 ,  1.1102989 ,  0.02310098,  0.59973174, -0.3175628 ,\n",
       "         2.682218  ,  0.18423343,  1.104366  , -3.4408996 , -0.63855636,\n",
       "         2.8877885 , -3.2080243 ,  0.10417599,  0.9539955 ,  1.2426269 ,\n",
       "         0.37650418, -0.7223404 ,  0.87904406, -0.71954674, -1.9370744 ]],\n",
       "      dtype=float32)"
      ]
     },
     "metadata": {},
     "output_type": "display_data"
    }
   ],
   "source": [
    "user_ids = [206210, 206211, 103593]\n",
    "user_factors = model.user_factors[user_to_index[user_ids]]\n",
    "\n",
    "display(user_factors[1:])"
   ]
  },
  {
   "attachments": {},
   "cell_type": "markdown",
   "metadata": {
    "id": "d2rlTIuyt5HK"
   },
   "source": [
    "### Model recommendations\n",
    "\n",
    "We will now retrieve recommendations from our model directly, just to have these results as a baseline."
   ]
  },
  {
   "cell_type": "code",
   "execution_count": 27,
   "metadata": {
    "id": "IM9lyHTVt5HL",
    "outputId": "fdb5f8e4-57a0-41c8-9ffb-34c629fec7e5"
   },
   "outputs": [
    {
     "name": "stdout",
     "output_type": "stream",
     "text": [
      "Model recommendations\n",
      "\n",
      "Time needed for retrieving recommended products: 0.1621812180001143 seconds.\n",
      "\n",
      "\n",
      "Recommendations for person 0:\n",
      "['Mineral Water']\n",
      "['Sparkling Water']\n",
      "['Soda']\n",
      "['Zero Calorie Cola']\n",
      "['Smartwater']\n",
      "['Sparkling Mineral Water']\n",
      "['Drinking Water']\n",
      "['Coconut Water']\n",
      "['Organic Coconut Water']\n",
      "['Spring Water']\n",
      "\n",
      "Recommendations for person 1:\n",
      "['Baby Wipes Sensitive']\n",
      "['YoKids Squeezers Organic Low-Fat Yogurt, Strawberry']\n",
      "['Organic Garbanzo Beans']\n",
      "['Organic Cheese Frozen Pizza']\n",
      "['Free and Gentle High Efficiency Liquid Laundry Detergent']\n",
      "['Eggo Pancakes Minis']\n",
      "['Strawberry Explosion/Banana Split Smoothie']\n",
      "['Baby Wash & Shampoo']\n",
      "['Danimals Strawberry Explosion Flavored Smoothie']\n",
      "['No More Tears Baby Shampoo']\n",
      "\n",
      "Recommendations for person 2:\n",
      "['Organic Blackberries']\n",
      "['Fat Free Milk']\n",
      "['Clementines, Bag']\n",
      "['Organic Cripps Pink Apples']\n",
      "['Organic Bosc Pear']\n",
      "['Red Plums']\n",
      "['Organic Strawberries']\n",
      "['Peach']\n",
      "['Citrus Mandarins Organic']\n",
      "['Blood Oranges']\n"
     ]
    }
   ],
   "source": [
    "print(\"Model recommendations\\n\")\n",
    "\n",
    "start_time = time.process_time()\n",
    "recommendations0 = model.recommend(userid=user_ids[0], user_items=sparse_user_product[0])\n",
    "recommendations1 = model.recommend(userid=user_ids[1], user_items=sparse_user_product[1])\n",
    "recommendations2 = model.recommend(userid=user_ids[2], user_items=sparse_user_product[2])\n",
    "print(\"Time needed for retrieving recommended products: \" + str(time.process_time() - start_time) + ' seconds.\\n')\n",
    "\n",
    "print('\\nRecommendations for person 0:')\n",
    "for recommendation in recommendations0[0]:\n",
    "    print(products_lookup[products_lookup.product_id == recommendation]['product_name'].values)\n",
    "\n",
    "print('\\nRecommendations for person 1:')\n",
    "for recommendation in recommendations1[0]:\n",
    "    print(products_lookup[products_lookup.product_id == recommendation]['product_name'].values)\n",
    "\n",
    "print('\\nRecommendations for person 2:')\n",
    "for recommendation in recommendations2[0]:\n",
    "    print(products_lookup[products_lookup.product_id == recommendation]['product_name'].values)"
   ]
  },
  {
   "attachments": {},
   "cell_type": "markdown",
   "metadata": {
    "id": "wTh61ou3t5HL"
   },
   "source": [
    "### Query the index\n",
    "\n",
    "Let's now query the index to check how quickly we retrieve results. Please note that query speed depends in part on your internet connection."
   ]
  },
  {
   "cell_type": "code",
   "execution_count": 28,
   "metadata": {
    "id": "UiZg4Iset5HL",
    "outputId": "06898130-2d66-4860-d7ea-e7ac6c9c92f6"
   },
   "outputs": [
    {
     "name": "stdout",
     "output_type": "stream",
     "text": [
      "Time needed for retrieving recommended products using Pinecone: 0.02134626999941247 seconds.\n",
      "\n",
      "user_id=206210\n",
      "Recommendation: \n"
     ]
    },
    {
     "data": {
      "text/html": [
       "<div>\n",
       "<style scoped>\n",
       "    .dataframe tbody tr th:only-of-type {\n",
       "        vertical-align: middle;\n",
       "    }\n",
       "\n",
       "    .dataframe tbody tr th {\n",
       "        vertical-align: top;\n",
       "    }\n",
       "\n",
       "    .dataframe thead th {\n",
       "        text-align: right;\n",
       "    }\n",
       "</style>\n",
       "<table border=\"1\" class=\"dataframe\">\n",
       "  <thead>\n",
       "    <tr style=\"text-align: right;\">\n",
       "      <th></th>\n",
       "      <th>products</th>\n",
       "      <th>scores</th>\n",
       "    </tr>\n",
       "  </thead>\n",
       "  <tbody>\n",
       "    <tr>\n",
       "      <th>0</th>\n",
       "      <td>Mineral Water</td>\n",
       "      <td>0.917760</td>\n",
       "    </tr>\n",
       "    <tr>\n",
       "      <th>1</th>\n",
       "      <td>Zero Calorie Cola</td>\n",
       "      <td>0.707625</td>\n",
       "    </tr>\n",
       "    <tr>\n",
       "      <th>2</th>\n",
       "      <td>Popcorn</td>\n",
       "      <td>0.630404</td>\n",
       "    </tr>\n",
       "    <tr>\n",
       "      <th>3</th>\n",
       "      <td>Organic Coconut Water</td>\n",
       "      <td>0.619142</td>\n",
       "    </tr>\n",
       "    <tr>\n",
       "      <th>4</th>\n",
       "      <td>Drinking Water</td>\n",
       "      <td>0.610339</td>\n",
       "    </tr>\n",
       "    <tr>\n",
       "      <th>5</th>\n",
       "      <td>Orange &amp; Lemon Flavor Variety Pack Sparkling F...</td>\n",
       "      <td>0.604182</td>\n",
       "    </tr>\n",
       "    <tr>\n",
       "      <th>6</th>\n",
       "      <td>Extra Fancy Unsalted Mixed Nuts</td>\n",
       "      <td>0.601729</td>\n",
       "    </tr>\n",
       "    <tr>\n",
       "      <th>7</th>\n",
       "      <td>Trail Mix</td>\n",
       "      <td>0.593162</td>\n",
       "    </tr>\n",
       "    <tr>\n",
       "      <th>8</th>\n",
       "      <td>Milk Chocolate Almonds</td>\n",
       "      <td>0.587405</td>\n",
       "    </tr>\n",
       "    <tr>\n",
       "      <th>9</th>\n",
       "      <td>Sparkling Water</td>\n",
       "      <td>0.582343</td>\n",
       "    </tr>\n",
       "  </tbody>\n",
       "</table>\n",
       "</div>"
      ],
      "text/plain": [
       "                                            products    scores\n",
       "0                                      Mineral Water  0.917760\n",
       "1                                  Zero Calorie Cola  0.707625\n",
       "2                                            Popcorn  0.630404\n",
       "3                              Organic Coconut Water  0.619142\n",
       "4                                     Drinking Water  0.610339\n",
       "5  Orange & Lemon Flavor Variety Pack Sparkling F...  0.604182\n",
       "6                    Extra Fancy Unsalted Mixed Nuts  0.601729\n",
       "7                                          Trail Mix  0.593162\n",
       "8                             Milk Chocolate Almonds  0.587405\n",
       "9                                    Sparkling Water  0.582343"
      ]
     },
     "metadata": {},
     "output_type": "display_data"
    },
    {
     "name": "stdout",
     "output_type": "stream",
     "text": [
      "Top buys from the past: \n"
     ]
    },
    {
     "data": {
      "text/html": [
       "<div>\n",
       "<style scoped>\n",
       "    .dataframe tbody tr th:only-of-type {\n",
       "        vertical-align: middle;\n",
       "    }\n",
       "\n",
       "    .dataframe tbody tr th {\n",
       "        vertical-align: top;\n",
       "    }\n",
       "\n",
       "    .dataframe thead th {\n",
       "        text-align: right;\n",
       "    }\n",
       "</style>\n",
       "<table border=\"1\" class=\"dataframe\">\n",
       "  <thead>\n",
       "    <tr style=\"text-align: right;\">\n",
       "      <th></th>\n",
       "      <th>product_id</th>\n",
       "      <th>product_name</th>\n",
       "      <th>total_orders</th>\n",
       "    </tr>\n",
       "  </thead>\n",
       "  <tbody>\n",
       "    <tr>\n",
       "      <th>0</th>\n",
       "      <td>22802</td>\n",
       "      <td>Mineral Water</td>\n",
       "      <td>97</td>\n",
       "    </tr>\n",
       "  </tbody>\n",
       "</table>\n",
       "</div>"
      ],
      "text/plain": [
       "   product_id   product_name  total_orders\n",
       "0       22802  Mineral Water            97"
      ]
     },
     "metadata": {},
     "output_type": "display_data"
    },
    {
     "name": "stdout",
     "output_type": "stream",
     "text": [
      "user_id=206211\n",
      "Recommendation: \n"
     ]
    },
    {
     "data": {
      "text/html": [
       "<div>\n",
       "<style scoped>\n",
       "    .dataframe tbody tr th:only-of-type {\n",
       "        vertical-align: middle;\n",
       "    }\n",
       "\n",
       "    .dataframe tbody tr th {\n",
       "        vertical-align: top;\n",
       "    }\n",
       "\n",
       "    .dataframe thead th {\n",
       "        text-align: right;\n",
       "    }\n",
       "</style>\n",
       "<table border=\"1\" class=\"dataframe\">\n",
       "  <thead>\n",
       "    <tr style=\"text-align: right;\">\n",
       "      <th></th>\n",
       "      <th>products</th>\n",
       "      <th>scores</th>\n",
       "    </tr>\n",
       "  </thead>\n",
       "  <tbody>\n",
       "    <tr>\n",
       "      <th>0</th>\n",
       "      <td>Baby Wash &amp; Shampoo</td>\n",
       "      <td>0.706027</td>\n",
       "    </tr>\n",
       "    <tr>\n",
       "      <th>1</th>\n",
       "      <td>No More Tears Baby Shampoo</td>\n",
       "      <td>0.682153</td>\n",
       "    </tr>\n",
       "    <tr>\n",
       "      <th>2</th>\n",
       "      <td>Size 6 Baby Dry Diapers</td>\n",
       "      <td>0.579626</td>\n",
       "    </tr>\n",
       "    <tr>\n",
       "      <th>3</th>\n",
       "      <td>Baby Wipes Sensitive</td>\n",
       "      <td>0.530385</td>\n",
       "    </tr>\n",
       "    <tr>\n",
       "      <th>4</th>\n",
       "      <td>Head-to-Toe Baby Wash</td>\n",
       "      <td>0.510900</td>\n",
       "    </tr>\n",
       "    <tr>\n",
       "      <th>5</th>\n",
       "      <td>Stage 1 Newborn Hypoallergenic Liquid Detergent</td>\n",
       "      <td>0.508379</td>\n",
       "    </tr>\n",
       "    <tr>\n",
       "      <th>6</th>\n",
       "      <td>Rockin' Raspberry 3.1 Fl Oz</td>\n",
       "      <td>0.502775</td>\n",
       "    </tr>\n",
       "    <tr>\n",
       "      <th>7</th>\n",
       "      <td>1pk 270ct Refill</td>\n",
       "      <td>0.496146</td>\n",
       "    </tr>\n",
       "    <tr>\n",
       "      <th>8</th>\n",
       "      <td>Size 5 Cruisers Diapers Super Pack</td>\n",
       "      <td>0.486226</td>\n",
       "    </tr>\n",
       "    <tr>\n",
       "      <th>9</th>\n",
       "      <td>White Buttermints</td>\n",
       "      <td>0.475889</td>\n",
       "    </tr>\n",
       "  </tbody>\n",
       "</table>\n",
       "</div>"
      ],
      "text/plain": [
       "                                          products    scores\n",
       "0                              Baby Wash & Shampoo  0.706027\n",
       "1                       No More Tears Baby Shampoo  0.682153\n",
       "2                          Size 6 Baby Dry Diapers  0.579626\n",
       "3                             Baby Wipes Sensitive  0.530385\n",
       "4                            Head-to-Toe Baby Wash  0.510900\n",
       "5  Stage 1 Newborn Hypoallergenic Liquid Detergent  0.508379\n",
       "6                      Rockin' Raspberry 3.1 Fl Oz  0.502775\n",
       "7                                 1pk 270ct Refill  0.496146\n",
       "8               Size 5 Cruisers Diapers Super Pack  0.486226\n",
       "9                                White Buttermints  0.475889"
      ]
     },
     "metadata": {},
     "output_type": "display_data"
    },
    {
     "name": "stdout",
     "output_type": "stream",
     "text": [
      "Top buys from the past: \n"
     ]
    },
    {
     "data": {
      "text/html": [
       "<div>\n",
       "<style scoped>\n",
       "    .dataframe tbody tr th:only-of-type {\n",
       "        vertical-align: middle;\n",
       "    }\n",
       "\n",
       "    .dataframe tbody tr th {\n",
       "        vertical-align: top;\n",
       "    }\n",
       "\n",
       "    .dataframe thead th {\n",
       "        text-align: right;\n",
       "    }\n",
       "</style>\n",
       "<table border=\"1\" class=\"dataframe\">\n",
       "  <thead>\n",
       "    <tr style=\"text-align: right;\">\n",
       "      <th></th>\n",
       "      <th>product_id</th>\n",
       "      <th>product_name</th>\n",
       "      <th>total_orders</th>\n",
       "    </tr>\n",
       "  </thead>\n",
       "  <tbody>\n",
       "    <tr>\n",
       "      <th>0</th>\n",
       "      <td>26834</td>\n",
       "      <td>No More Tears Baby Shampoo</td>\n",
       "      <td>89</td>\n",
       "    </tr>\n",
       "    <tr>\n",
       "      <th>1</th>\n",
       "      <td>12590</td>\n",
       "      <td>Baby Wash &amp; Shampoo</td>\n",
       "      <td>77</td>\n",
       "    </tr>\n",
       "  </tbody>\n",
       "</table>\n",
       "</div>"
      ],
      "text/plain": [
       "   product_id                product_name  total_orders\n",
       "0       26834  No More Tears Baby Shampoo            89\n",
       "1       12590         Baby Wash & Shampoo            77"
      ]
     },
     "metadata": {},
     "output_type": "display_data"
    }
   ],
   "source": [
    "# Query by user factors\n",
    "\n",
    "start_time = time.process_time()\n",
    "query_results = index.query(queries=user_factors.to_numpy()[:-1].tolist(), top_k=10, include_metadata=True)\n",
    "print(\"Time needed for retrieving recommended products using Pinecone: \" + str(time.process_time() - start_time) + ' seconds.\\n')\n",
    "\n",
    "for _id, res in zip(user_ids, query_results.results):\n",
    "    print(f'user_id={_id}')\n",
    "    df = pd.DataFrame(\n",
    "        {\n",
    "            'products': [match.metadata['title'] for match in res.matches],\n",
    "            'scores': [match.score for match in res.matches]\n",
    "        }\n",
    "    )\n",
    "    print(\"Recommendation: \")\n",
    "    display(df)\n",
    "    print(\"Top buys from the past: \")\n",
    "    display(products_bought_by_user_in_the_past(_id, top=15))"
   ]
  },
  {
   "attachments": {},
   "cell_type": "markdown",
   "metadata": {
    "id": "Dkxi6IYbt5HL"
   },
   "source": [
    "*Note* The inference using Pinecone is much faster compared to retrieving recommendations from a model directly. Please note that this result depends on your internet connection as well. "
   ]
  },
  {
   "attachments": {},
   "cell_type": "markdown",
   "metadata": {
    "id": "Jl64xOvKt5HL"
   },
   "source": [
    "All that’s left to do is surface these recommendations on the shopping site, or feed them into other applications."
   ]
  },
  {
   "attachments": {},
   "cell_type": "markdown",
   "metadata": {
    "id": "HUvu0FG9t5HM"
   },
   "source": [
    "## Clean up"
   ]
  },
  {
   "attachments": {},
   "cell_type": "markdown",
   "metadata": {
    "id": "QTpsePdJt5HM"
   },
   "source": [
    "Delete the index once you are sure that you do not want to use it anymore. Once it is deleted, you cannot reuse it."
   ]
  },
  {
   "cell_type": "code",
   "execution_count": 29,
   "metadata": {
    "id": "7gCA-7kbt5HM"
   },
   "outputs": [],
   "source": [
    "pinecone.delete_index(index_name)"
   ]
  },
  {
   "attachments": {},
   "cell_type": "markdown",
   "metadata": {
    "id": "Ece-xKrYt5HM"
   },
   "source": [
    "## Summary"
   ]
  },
  {
   "attachments": {},
   "cell_type": "markdown",
   "metadata": {
    "id": "FXywcRrYt5HM"
   },
   "source": [
    "In this example we used [Pinecone](https://www.pinecone.io/) to build and deploy a product recommendation engine that uses collaborative filtering, relatively quickly.\n",
    "\n",
    "Once deployed, the product recommendation engine can index new data, retrieve recommendations in milliseconds, and send results to production applications."
   ]
  }
 ],
 "metadata": {
  "colab": {
   "name": "product_recommender.ipynb",
   "provenance": []
  },
  "kernelspec": {
   "display_name": "base",
   "language": "python",
   "name": "python3"
  },
  "language_info": {
   "codemirror_mode": {
    "name": "ipython",
    "version": 3
   },
   "file_extension": ".py",
   "mimetype": "text/x-python",
   "name": "python",
   "nbconvert_exporter": "python",
   "pygments_lexer": "ipython3",
   "version": "3.8.16"
  },
  "vscode": {
   "interpreter": {
    "hash": "5fe10bf018ef3e697f9035d60bf60847932a12bface18908407fd371fe880db9"
   }
  }
 },
 "nbformat": 4,
 "nbformat_minor": 1
}
