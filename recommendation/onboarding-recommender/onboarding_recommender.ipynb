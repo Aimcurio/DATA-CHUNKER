{
 "cells": [
  {
   "attachments": {},
   "cell_type": "markdown",
   "metadata": {},
   "source": [
    "# Recommendation Systems\n",
    "\n",
    "Recommendation systems have revolutionized the way we discover and explore new things. These intelligent systems utilize sophisticated algorithms and data analysis to understand individual preferences and provide personalized recommendations. \n",
    "<br><br>\n",
    "By analyzing user data, such as **browsing history**, **purchase patterns**, and **social interactions**, recommendation systems can effectively predict and suggest items that align with users' interests. Whether it's suggesting a new movie to watch, a book to read, or a product to buy, these systems streamline decision-making and enhance the overall user experience. \n",
    "<br>\n",
    "With their ability to uncover hidden gems and introduce users to exciting possibilities, recommendation systems have become invaluable tools in navigating the overwhelming abundance of choices in today's digital landscape.\n",
    "\n",
    "### Recommendation Systems and Vector Databases\n",
    "\n",
    "In recommendation systems, understanding the similarity between users and items is crucial for generating accurate and personalized recommendations. By leveraging vector databases, these systems can store and organize user and item vectors, which capture the essential characteristics and preferences associated with each user and item. \n",
    "<br><br>\n",
    "The vector database employs <a href=\"https://www.pinecone.io/learn/vector-database/#:~:text=a%20vector%20database.-,Algorithms,-Several%20algorithms%20can\">advanced indexing techniques</a>, to enable fast retrieval of **similar users or items** based on their **vector representations**. This enables recommendation systems to efficiently process *large-scale datasets* and identify meaningful connections, leading to more precise and relevant recommendations. \n",
    "<br><br>\n",
    "By harnessing the power of vector databases, such as **Pinecone**, recommendation systems can optimize their performance, enhance user satisfaction, and deliver tailored experiences that align with individual preferences.\n",
    "<br><br><br>\n",
    "Let's take a look at how we can implement one of those use cases!"
   ]
  },
  {
   "attachments": {},
   "cell_type": "markdown",
   "metadata": {},
   "source": [
    "We start by installing all necessary libraries."
   ]
  },
  {
   "cell_type": "code",
   "execution_count": 1,
   "metadata": {},
   "outputs": [
    {
     "name": "stdout",
     "output_type": "stream",
     "text": [
      "\u001b[33mWARNING: You are using pip version 22.0.4; however, version 23.1.2 is available.\n",
      "You should consider upgrading via the '/home/jelena/.pyenv/versions/3.8.16/envs/onboarding-recommender-pinecone/bin/python3.8 -m pip install --upgrade pip' command.\u001b[0m\u001b[33m\n",
      "\u001b[0m"
     ]
    }
   ],
   "source": [
    "!pip install -qU \\\n",
    "    \"pinecone-client[grpc]\"==2.2.1 \\\n",
    "    pinecone-datasets \\\n",
    "    transformers \\\n",
    "    tensorflow"
   ]
  },
  {
   "attachments": {},
   "cell_type": "markdown",
   "metadata": {},
   "source": [
    "---\n",
    "\n",
    "🚨 _Note: the above `pip install` is formatted for Jupyter notebooks. If running elsewhere you may need to drop the `!`._\n",
    "\n",
    "---"
   ]
  },
  {
   "attachments": {},
   "cell_type": "markdown",
   "metadata": {},
   "source": [
    "## Data Preparation\n",
    "\n",
    "<img alt=\"Onboarding recommender diagram\" src=\"/home/jelena/Projects/Pinecone/examples/recommendation/onboarding-recommender/assets/onboarding_recommender_data_flow.jpg\"  width=\"70%\">"
   ]
  },
  {
   "attachments": {},
   "cell_type": "markdown",
   "metadata": {},
   "source": [
    "#### Downloading the Dataset\n",
    "\n",
    "We will download a pre-embedding dataset from `pinecone-datasets`. Allowing us to skip the embedding and any other preprocessing steps. \n",
    "<br><br>\n",
    "When working with your own dataset you will need to perform this embedding step but we have prebuilt the embeddings so we can jump right to the action."
   ]
  },
  {
   "cell_type": "code",
   "execution_count": 2,
   "metadata": {},
   "outputs": [],
   "source": [
    "DATASET_NAME = \"movielens-user-ratings\""
   ]
  },
  {
   "cell_type": "code",
   "execution_count": 3,
   "metadata": {},
   "outputs": [
    {
     "data": {
      "text/html": [
       "<div>\n",
       "<style scoped>\n",
       "    .dataframe tbody tr th:only-of-type {\n",
       "        vertical-align: middle;\n",
       "    }\n",
       "\n",
       "    .dataframe tbody tr th {\n",
       "        vertical-align: top;\n",
       "    }\n",
       "\n",
       "    .dataframe thead th {\n",
       "        text-align: right;\n",
       "    }\n",
       "</style>\n",
       "<table border=\"1\" class=\"dataframe\">\n",
       "  <thead>\n",
       "    <tr style=\"text-align: right;\">\n",
       "      <th></th>\n",
       "      <th>id</th>\n",
       "      <th>values</th>\n",
       "      <th>sparse_values</th>\n",
       "      <th>metadata</th>\n",
       "      <th>blob</th>\n",
       "    </tr>\n",
       "  </thead>\n",
       "  <tbody>\n",
       "    <tr>\n",
       "      <th>0</th>\n",
       "      <td>tt5027774</td>\n",
       "      <td>[-0.12388430535793304, 0.23021861910820007, -0...</td>\n",
       "      <td>None</td>\n",
       "      <td>None</td>\n",
       "      <td>{'imdb_id': 'tt5027774', 'movie_id': 6705, 'po...</td>\n",
       "    </tr>\n",
       "    <tr>\n",
       "      <th>1</th>\n",
       "      <td>tt5463162</td>\n",
       "      <td>[0.008479624055325985, 0.3665461540222168, -0....</td>\n",
       "      <td>None</td>\n",
       "      <td>None</td>\n",
       "      <td>{'imdb_id': 'tt5463162', 'movie_id': 7966, 'po...</td>\n",
       "    </tr>\n",
       "    <tr>\n",
       "      <th>2</th>\n",
       "      <td>tt4007502</td>\n",
       "      <td>[-0.0022702165879309177, 0.5886886715888977, -...</td>\n",
       "      <td>None</td>\n",
       "      <td>None</td>\n",
       "      <td>{'imdb_id': 'tt4007502', 'movie_id': 1614, 'po...</td>\n",
       "    </tr>\n",
       "    <tr>\n",
       "      <th>3</th>\n",
       "      <td>tt4209788</td>\n",
       "      <td>[0.08350061625242233, 0.4322584867477417, -0.2...</td>\n",
       "      <td>None</td>\n",
       "      <td>None</td>\n",
       "      <td>{'imdb_id': 'tt4209788', 'movie_id': 7022, 'po...</td>\n",
       "    </tr>\n",
       "    <tr>\n",
       "      <th>4</th>\n",
       "      <td>tt2948356</td>\n",
       "      <td>[-0.1614755392074585, 0.41389355063438416, -0....</td>\n",
       "      <td>None</td>\n",
       "      <td>None</td>\n",
       "      <td>{'imdb_id': 'tt2948356', 'movie_id': 3571, 'po...</td>\n",
       "    </tr>\n",
       "  </tbody>\n",
       "</table>\n",
       "</div>"
      ],
      "text/plain": [
       "          id                                             values sparse_values  \\\n",
       "0  tt5027774  [-0.12388430535793304, 0.23021861910820007, -0...          None   \n",
       "1  tt5463162  [0.008479624055325985, 0.3665461540222168, -0....          None   \n",
       "2  tt4007502  [-0.0022702165879309177, 0.5886886715888977, -...          None   \n",
       "3  tt4209788  [0.08350061625242233, 0.4322584867477417, -0.2...          None   \n",
       "4  tt2948356  [-0.1614755392074585, 0.41389355063438416, -0....          None   \n",
       "\n",
       "  metadata                                               blob  \n",
       "0     None  {'imdb_id': 'tt5027774', 'movie_id': 6705, 'po...  \n",
       "1     None  {'imdb_id': 'tt5463162', 'movie_id': 7966, 'po...  \n",
       "2     None  {'imdb_id': 'tt4007502', 'movie_id': 1614, 'po...  \n",
       "3     None  {'imdb_id': 'tt4209788', 'movie_id': 7022, 'po...  \n",
       "4     None  {'imdb_id': 'tt2948356', 'movie_id': 3571, 'po...  "
      ]
     },
     "execution_count": 3,
     "metadata": {},
     "output_type": "execute_result"
    }
   ],
   "source": [
    "from pinecone_datasets import load_dataset\n",
    "\n",
    "dataset = load_dataset(DATASET_NAME)\n",
    "dataset.head()"
   ]
  },
  {
   "cell_type": "code",
   "execution_count": 4,
   "metadata": {},
   "outputs": [
    {
     "data": {
      "text/plain": [
       "970582"
      ]
     },
     "execution_count": 4,
     "metadata": {},
     "output_type": "execute_result"
    }
   ],
   "source": [
    "len(dataset)"
   ]
  },
  {
   "attachments": {},
   "cell_type": "markdown",
   "metadata": {},
   "source": [
    "#### Reformatting the Dataset\n",
    "\n",
    "A `pinecone-dataset` always contains `id`, `values`, `sparse_values`, `metadata`, and `blob`. All we need are the IDs, vector embeddings (stored in `values`), and some metadata (which is actually stored in `blob`). Let's reformat the dataset ready for adding to Pinecone. We also drop `sparse_values` as they are not needed for this example.\n"
   ]
  },
  {
   "cell_type": "code",
   "execution_count": 5,
   "metadata": {},
   "outputs": [
    {
     "data": {
      "text/html": [
       "<div>\n",
       "<style scoped>\n",
       "    .dataframe tbody tr th:only-of-type {\n",
       "        vertical-align: middle;\n",
       "    }\n",
       "\n",
       "    .dataframe tbody tr th {\n",
       "        vertical-align: top;\n",
       "    }\n",
       "\n",
       "    .dataframe thead th {\n",
       "        text-align: right;\n",
       "    }\n",
       "</style>\n",
       "<table border=\"1\" class=\"dataframe\">\n",
       "  <thead>\n",
       "    <tr style=\"text-align: right;\">\n",
       "      <th></th>\n",
       "      <th>id</th>\n",
       "      <th>values</th>\n",
       "      <th>metadata</th>\n",
       "    </tr>\n",
       "  </thead>\n",
       "  <tbody>\n",
       "    <tr>\n",
       "      <th>0</th>\n",
       "      <td>tt5027774</td>\n",
       "      <td>[-0.12388430535793304, 0.23021861910820007, -0...</td>\n",
       "      <td>{'imdb_id': 'tt5027774', 'movie_id': 6705, 'po...</td>\n",
       "    </tr>\n",
       "    <tr>\n",
       "      <th>1</th>\n",
       "      <td>tt5463162</td>\n",
       "      <td>[0.008479624055325985, 0.3665461540222168, -0....</td>\n",
       "      <td>{'imdb_id': 'tt5463162', 'movie_id': 7966, 'po...</td>\n",
       "    </tr>\n",
       "    <tr>\n",
       "      <th>2</th>\n",
       "      <td>tt4007502</td>\n",
       "      <td>[-0.0022702165879309177, 0.5886886715888977, -...</td>\n",
       "      <td>{'imdb_id': 'tt4007502', 'movie_id': 1614, 'po...</td>\n",
       "    </tr>\n",
       "    <tr>\n",
       "      <th>3</th>\n",
       "      <td>tt4209788</td>\n",
       "      <td>[0.08350061625242233, 0.4322584867477417, -0.2...</td>\n",
       "      <td>{'imdb_id': 'tt4209788', 'movie_id': 7022, 'po...</td>\n",
       "    </tr>\n",
       "    <tr>\n",
       "      <th>4</th>\n",
       "      <td>tt2948356</td>\n",
       "      <td>[-0.1614755392074585, 0.41389355063438416, -0....</td>\n",
       "      <td>{'imdb_id': 'tt2948356', 'movie_id': 3571, 'po...</td>\n",
       "    </tr>\n",
       "  </tbody>\n",
       "</table>\n",
       "</div>"
      ],
      "text/plain": [
       "          id                                             values  \\\n",
       "0  tt5027774  [-0.12388430535793304, 0.23021861910820007, -0...   \n",
       "1  tt5463162  [0.008479624055325985, 0.3665461540222168, -0....   \n",
       "2  tt4007502  [-0.0022702165879309177, 0.5886886715888977, -...   \n",
       "3  tt4209788  [0.08350061625242233, 0.4322584867477417, -0.2...   \n",
       "4  tt2948356  [-0.1614755392074585, 0.41389355063438416, -0....   \n",
       "\n",
       "                                            metadata  \n",
       "0  {'imdb_id': 'tt5027774', 'movie_id': 6705, 'po...  \n",
       "1  {'imdb_id': 'tt5463162', 'movie_id': 7966, 'po...  \n",
       "2  {'imdb_id': 'tt4007502', 'movie_id': 1614, 'po...  \n",
       "3  {'imdb_id': 'tt4209788', 'movie_id': 7022, 'po...  \n",
       "4  {'imdb_id': 'tt2948356', 'movie_id': 3571, 'po...  "
      ]
     },
     "execution_count": 5,
     "metadata": {},
     "output_type": "execute_result"
    }
   ],
   "source": [
    "dataset.documents.drop(['sparse_values', 'metadata'], axis=1, inplace=True)\n",
    "dataset.documents.rename(columns={'blob': 'metadata'}, inplace=True)\n",
    "\n",
    "dataset.head()"
   ]
  },
  {
   "attachments": {},
   "cell_type": "markdown",
   "metadata": {},
   "source": [
    "Here is an example of the metadata value."
   ]
  },
  {
   "cell_type": "code",
   "execution_count": 217,
   "metadata": {},
   "outputs": [
    {
     "name": "stdout",
     "output_type": "stream",
     "text": [
      "{'imdb_id': 'tt5027774',\n",
      " 'movie_id': 6705,\n",
      " 'poster': 'https://m.media-amazon.com/images/M/MV5BMjI0ODcxNzM1N15BMl5BanBnXkFtZTgwMzIwMTEwNDI@._V1_SX300.jpg',\n",
      " 'rating': 4.0,\n",
      " 'title': 'Three Billboards Outside Ebbing, Missouri (2017)',\n",
      " 'user_id': 4556}\n"
     ]
    }
   ],
   "source": [
    "from pprint import pp\n",
    "\n",
    "pp(dataset.documents['metadata'][0])"
   ]
  },
  {
   "attachments": {},
   "cell_type": "markdown",
   "metadata": {},
   "source": [
    "Now we move on to initializing our Pinecone vector database."
   ]
  },
  {
   "attachments": {},
   "cell_type": "markdown",
   "metadata": {},
   "source": [
    "## Creating an Index"
   ]
  },
  {
   "cell_type": "code",
   "execution_count": 7,
   "metadata": {},
   "outputs": [
    {
     "name": "stderr",
     "output_type": "stream",
     "text": [
      "/home/jelena/.pyenv/versions/3.8.16/envs/onboarding-recommender-pinecone/lib/python3.8/site-packages/pinecone/index.py:4: TqdmWarning: IProgress not found. Please update jupyter and ipywidgets. See https://ipywidgets.readthedocs.io/en/stable/user_install.html\n",
      "  from tqdm.autonotebook import tqdm\n"
     ]
    }
   ],
   "source": [
    "import os\n",
    "import pinecone\n",
    "import time"
   ]
  },
  {
   "attachments": {},
   "cell_type": "markdown",
   "metadata": {},
   "source": [
    "We set `PINECONE_API_KEY` and `PINECONE_ENV` variables that we are going to use during initialization step. You can find these values in [Pinecone Console](https://app.pinecone.io/) in the API Keys section."
   ]
  },
  {
   "cell_type": "code",
   "execution_count": 8,
   "metadata": {},
   "outputs": [],
   "source": [
    "PINECONE_API_KEY = os.environ.get('PINECONE_API_KEY') or 'PINECONE_API_KEY'\n",
    "PINECONE_ENV = os.environ.get('PINECONE_ENVIRONMENT') or 'PINECONE_ENVIRONMENT'"
   ]
  },
  {
   "attachments": {},
   "cell_type": "markdown",
   "metadata": {},
   "source": [
    "Now we can use these variables for initialization."
   ]
  },
  {
   "cell_type": "code",
   "execution_count": 9,
   "metadata": {},
   "outputs": [],
   "source": [
    "pinecone.init(\n",
    "    api_key=PINECONE_API_KEY,\n",
    "    environment=PINECONE_ENV\n",
    ")"
   ]
  },
  {
   "attachments": {},
   "cell_type": "markdown",
   "metadata": {},
   "source": [
    "In order to create a new index, we need to specify the index name, similarity metric, as well as the dimension of the vectors stored in that index. \n",
    "<br>\n",
    "We will assign these values here. \n",
    "<br>\n",
    "Note that the dimension parameter has to match the embedding dimensions provided in the dataset (or the model that outputs those embeddings)."
   ]
  },
  {
   "cell_type": "code",
   "execution_count": 10,
   "metadata": {},
   "outputs": [
    {
     "data": {
      "text/plain": [
       "32"
      ]
     },
     "execution_count": 10,
     "metadata": {},
     "output_type": "execute_result"
    }
   ],
   "source": [
    "# embedding dimensions\n",
    "len(dataset.documents['values'][0])"
   ]
  },
  {
   "cell_type": "code",
   "execution_count": 11,
   "metadata": {},
   "outputs": [],
   "source": [
    "INDEX_NAME = 'onboarding-recommender'\n",
    "SIM_METRIC = 'cosine'\n",
    "DIMENSION = 32"
   ]
  },
  {
   "attachments": {},
   "cell_type": "markdown",
   "metadata": {},
   "source": [
    "First, we need to check if the index already exists. In this example, we will delete it and create a new one."
   ]
  },
  {
   "cell_type": "code",
   "execution_count": 12,
   "metadata": {},
   "outputs": [],
   "source": [
    "if INDEX_NAME in pinecone.list_indexes():\n",
    "    pinecone.delete_index(INDEX_NAME)\n",
    "\n",
    "pinecone.create_index(\n",
    "    name=INDEX_NAME,\n",
    "    metric=SIM_METRIC,\n",
    "    dimension=DIMENSION,\n",
    ")\n",
    "# wait a moment for the index to be fully initialized\n",
    "time.sleep(1)"
   ]
  },
  {
   "attachments": {},
   "cell_type": "markdown",
   "metadata": {},
   "source": [
    "We are going to initialize an index variable so that we can use it later on to describe the index and perform vector upsert."
   ]
  },
  {
   "cell_type": "code",
   "execution_count": 14,
   "metadata": {},
   "outputs": [],
   "source": [
    "grpc_index = pinecone.GRPCIndex(INDEX_NAME)"
   ]
  },
  {
   "cell_type": "code",
   "execution_count": 15,
   "metadata": {},
   "outputs": [
    {
     "data": {
      "text/plain": [
       "{'dimension': 32,\n",
       " 'index_fullness': 0.0,\n",
       " 'namespaces': {},\n",
       " 'total_vector_count': 0}"
      ]
     },
     "execution_count": 15,
     "metadata": {},
     "output_type": "execute_result"
    }
   ],
   "source": [
    "grpc_index.describe_index_stats()"
   ]
  },
  {
   "cell_type": "code",
   "execution_count": 16,
   "metadata": {},
   "outputs": [
    {
     "name": "stderr",
     "output_type": "stream",
     "text": [
      "collecting async responses: 100%|██████████| 1942/1942 [00:06<00:00, 291.47it/s]  ]\n",
      "sending upsert requests: 100%|██████████| 970582/970582 [01:02<00:00, 15522.52it/s]\n"
     ]
    },
    {
     "data": {
      "text/plain": [
       "upserted_count: 970582"
      ]
     },
     "execution_count": 16,
     "metadata": {},
     "output_type": "execute_result"
    }
   ],
   "source": [
    "grpc_index.upsert_from_dataframe(dataset.documents)"
   ]
  },
  {
   "cell_type": "code",
   "execution_count": 81,
   "metadata": {},
   "outputs": [
    {
     "data": {
      "text/plain": [
       "{'dimension': 32,\n",
       " 'index_fullness': 0.0,\n",
       " 'namespaces': {'': {'vector_count': 10269}},\n",
       " 'total_vector_count': 10269}"
      ]
     },
     "execution_count": 81,
     "metadata": {},
     "output_type": "execute_result"
    }
   ],
   "source": [
    "grpc_index.describe_index_stats()"
   ]
  },
  {
   "attachments": {},
   "cell_type": "markdown",
   "metadata": {},
   "source": [
    "## Querying the Index"
   ]
  },
  {
   "attachments": {},
   "cell_type": "markdown",
   "metadata": {},
   "source": [
    "Now, when the index is populated, we can perform queries on it to find the most relevant recommendations.\n",
    "<br>\n",
    "To do that, we need to instantiate our embedding models so that we can create vectors from our input user or input item objects."
   ]
  },
  {
   "attachments": {},
   "cell_type": "markdown",
   "metadata": {},
   "source": [
    "### Getting the Model\n",
    "\n",
    "We will download the models from the HuggingFace Hub. We will use one model to embed the *example user* and another model to embed the *example item*. <br>\n",
    "This will allow us to retrieve the most relevant items for a specific user or find the most similar items to a specific item."
   ]
  },
  {
   "cell_type": "code",
   "execution_count": 17,
   "metadata": {},
   "outputs": [
    {
     "name": "stderr",
     "output_type": "stream",
     "text": [
      "2023-06-13 10:42:05.535914: I tensorflow/core/platform/cpu_feature_guard.cc:193] This TensorFlow binary is optimized with oneAPI Deep Neural Network Library (oneDNN) to use the following CPU instructions in performance-critical operations:  AVX2 FMA\n",
      "To enable them in other operations, rebuild TensorFlow with the appropriate compiler flags.\n",
      "2023-06-13 10:42:08.080937: W tensorflow/compiler/xla/stream_executor/platform/default/dso_loader.cc:64] Could not load dynamic library 'libcudart.so.11.0'; dlerror: libcudart.so.11.0: cannot open shared object file: No such file or directory\n",
      "2023-06-13 10:42:08.080959: I tensorflow/compiler/xla/stream_executor/cuda/cudart_stub.cc:29] Ignore above cudart dlerror if you do not have a GPU set up on your machine.\n",
      "2023-06-13 10:42:11.553871: W tensorflow/compiler/xla/stream_executor/platform/default/dso_loader.cc:64] Could not load dynamic library 'libnvinfer.so.7'; dlerror: libnvinfer.so.7: cannot open shared object file: No such file or directory\n",
      "2023-06-13 10:42:11.553959: W tensorflow/compiler/xla/stream_executor/platform/default/dso_loader.cc:64] Could not load dynamic library 'libnvinfer_plugin.so.7'; dlerror: libnvinfer_plugin.so.7: cannot open shared object file: No such file or directory\n",
      "2023-06-13 10:42:11.553966: W tensorflow/compiler/tf2tensorrt/utils/py_utils.cc:38] TF-TRT Warning: Cannot dlopen some TensorRT libraries. If you would like to use Nvidia GPU with TensorRT, please make sure the missing libraries mentioned above are installed properly.\n",
      "config.json not found in HuggingFace Hub.\n",
      "Fetching 7 files: 100%|██████████| 7/7 [00:00<00:00, 1182.59it/s]\n",
      "2023-06-13 10:42:15.547042: W tensorflow/compiler/xla/stream_executor/platform/default/dso_loader.cc:64] Could not load dynamic library 'libcuda.so.1'; dlerror: libcuda.so.1: cannot open shared object file: No such file or directory\n",
      "2023-06-13 10:42:15.547079: W tensorflow/compiler/xla/stream_executor/cuda/cuda_driver.cc:265] failed call to cuInit: UNKNOWN ERROR (303)\n",
      "2023-06-13 10:42:15.547103: I tensorflow/compiler/xla/stream_executor/cuda/cuda_diagnostics.cc:156] kernel driver does not appear to be running on this host (INV155): /proc/driver/nvidia/version does not exist\n",
      "2023-06-13 10:42:15.547445: I tensorflow/core/platform/cpu_feature_guard.cc:193] This TensorFlow binary is optimized with oneAPI Deep Neural Network Library (oneDNN) to use the following CPU instructions in performance-critical operations:  AVX2 FMA\n",
      "To enable them in other operations, rebuild TensorFlow with the appropriate compiler flags.\n"
     ]
    },
    {
     "name": "stdout",
     "output_type": "stream",
     "text": [
      "WARNING:tensorflow:No training configuration found in save file, so the model was *not* compiled. Compile it manually.\n"
     ]
    },
    {
     "name": "stderr",
     "output_type": "stream",
     "text": [
      "config.json not found in HuggingFace Hub.\n",
      "Fetching 7 files: 100%|██████████| 7/7 [00:00<00:00, 1696.33it/s]\n"
     ]
    },
    {
     "name": "stdout",
     "output_type": "stream",
     "text": [
      "WARNING:tensorflow:No training configuration found in save file, so the model was *not* compiled. Compile it manually.\n"
     ]
    }
   ],
   "source": [
    "from huggingface_hub import from_pretrained_keras\n",
    "\n",
    "user_model = from_pretrained_keras(\"pinecone/movie-recommender-user-model\")\n",
    "movie_model = from_pretrained_keras(\"pinecone/movie-recommender-movie-model\")"
   ]
  },
  {
   "attachments": {},
   "cell_type": "markdown",
   "metadata": {},
   "source": [
    "Before we proceed, we can create a `movie_details` dataset that we can use later on to print out the results."
   ]
  },
  {
   "cell_type": "code",
   "execution_count": 218,
   "metadata": {},
   "outputs": [
    {
     "data": {
      "text/html": [
       "<div>\n",
       "<style scoped>\n",
       "    .dataframe tbody tr th:only-of-type {\n",
       "        vertical-align: middle;\n",
       "    }\n",
       "\n",
       "    .dataframe tbody tr th {\n",
       "        vertical-align: top;\n",
       "    }\n",
       "\n",
       "    .dataframe thead th {\n",
       "        text-align: right;\n",
       "    }\n",
       "</style>\n",
       "<table border=\"1\" class=\"dataframe\">\n",
       "  <thead>\n",
       "    <tr style=\"text-align: right;\">\n",
       "      <th></th>\n",
       "      <th>imdb_id</th>\n",
       "      <th>movie_id</th>\n",
       "      <th>poster</th>\n",
       "      <th>rating</th>\n",
       "      <th>title</th>\n",
       "      <th>user_id</th>\n",
       "    </tr>\n",
       "  </thead>\n",
       "  <tbody>\n",
       "    <tr>\n",
       "      <th>0</th>\n",
       "      <td>tt5027774</td>\n",
       "      <td>6705</td>\n",
       "      <td>https://m.media-amazon.com/images/M/MV5BMjI0OD...</td>\n",
       "      <td>4.0</td>\n",
       "      <td>Three Billboards Outside Ebbing, Missouri (2017)</td>\n",
       "      <td>4556</td>\n",
       "    </tr>\n",
       "    <tr>\n",
       "      <th>1</th>\n",
       "      <td>tt5463162</td>\n",
       "      <td>7966</td>\n",
       "      <td>https://m.media-amazon.com/images/M/MV5BMDkzNm...</td>\n",
       "      <td>3.5</td>\n",
       "      <td>Deadpool 2 (2018)</td>\n",
       "      <td>20798</td>\n",
       "    </tr>\n",
       "    <tr>\n",
       "      <th>2</th>\n",
       "      <td>tt4007502</td>\n",
       "      <td>1614</td>\n",
       "      <td>https://m.media-amazon.com/images/M/MV5BMjY3YT...</td>\n",
       "      <td>4.5</td>\n",
       "      <td>Frozen Fever (2015)</td>\n",
       "      <td>26543</td>\n",
       "    </tr>\n",
       "    <tr>\n",
       "      <th>3</th>\n",
       "      <td>tt4209788</td>\n",
       "      <td>7022</td>\n",
       "      <td>https://m.media-amazon.com/images/M/MV5BNTkzMz...</td>\n",
       "      <td>4.0</td>\n",
       "      <td>Molly's Game (2017)</td>\n",
       "      <td>4106</td>\n",
       "    </tr>\n",
       "    <tr>\n",
       "      <th>4</th>\n",
       "      <td>tt2948356</td>\n",
       "      <td>3571</td>\n",
       "      <td>https://m.media-amazon.com/images/M/MV5BOTMyMj...</td>\n",
       "      <td>4.0</td>\n",
       "      <td>Zootopia (2016)</td>\n",
       "      <td>15259</td>\n",
       "    </tr>\n",
       "  </tbody>\n",
       "</table>\n",
       "</div>"
      ],
      "text/plain": [
       "     imdb_id  movie_id                                             poster  \\\n",
       "0  tt5027774      6705  https://m.media-amazon.com/images/M/MV5BMjI0OD...   \n",
       "1  tt5463162      7966  https://m.media-amazon.com/images/M/MV5BMDkzNm...   \n",
       "2  tt4007502      1614  https://m.media-amazon.com/images/M/MV5BMjY3YT...   \n",
       "3  tt4209788      7022  https://m.media-amazon.com/images/M/MV5BNTkzMz...   \n",
       "4  tt2948356      3571  https://m.media-amazon.com/images/M/MV5BOTMyMj...   \n",
       "\n",
       "   rating                                             title  user_id  \n",
       "0     4.0  Three Billboards Outside Ebbing, Missouri (2017)     4556  \n",
       "1     3.5                                 Deadpool 2 (2018)    20798  \n",
       "2     4.5                               Frozen Fever (2015)    26543  \n",
       "3     4.0                               Molly's Game (2017)     4106  \n",
       "4     4.0                                   Zootopia (2016)    15259  "
      ]
     },
     "execution_count": 218,
     "metadata": {},
     "output_type": "execute_result"
    }
   ],
   "source": [
    "import pandas as pd\n",
    "\n",
    "movies_details = pd.DataFrame(dataset.documents['metadata'].values.tolist())\n",
    "movies_details.head()"
   ]
  },
  {
   "attachments": {},
   "cell_type": "markdown",
   "metadata": {},
   "source": [
    "#### Item Similarity"
   ]
  },
  {
   "attachments": {},
   "cell_type": "markdown",
   "metadata": {},
   "source": [
    "First, we can check how our vector database behaves when returning the most similar movies upon querying it using the movie vector created using the `movie_model` loaded above."
   ]
  },
  {
   "cell_type": "code",
   "execution_count": 223,
   "metadata": {},
   "outputs": [],
   "source": [
    "movie_id = 1263  # you can try experimenting with different movie ids to obtain different results, for example 3571\n",
    "movie_vector = movie_model(movie_id).numpy().tolist()"
   ]
  },
  {
   "cell_type": "code",
   "execution_count": 224,
   "metadata": {},
   "outputs": [
    {
     "data": {
      "text/plain": [
       "'Avengers: Infinity War - Part I (2018)'"
      ]
     },
     "execution_count": 224,
     "metadata": {},
     "output_type": "execute_result"
    }
   ],
   "source": [
    "movies_details[movies_details['movie_id'] == movie_id]['title'].tolist()[0]"
   ]
  },
  {
   "cell_type": "code",
   "execution_count": 225,
   "metadata": {},
   "outputs": [],
   "source": [
    "movie_query_results = grpc_index.query(queries=[movie_vector], top_k=10, include_metadata=True)"
   ]
  },
  {
   "cell_type": "code",
   "execution_count": 227,
   "metadata": {},
   "outputs": [
    {
     "name": "stdout",
     "output_type": "stream",
     "text": [
      "Recommendations: \n"
     ]
    },
    {
     "data": {
      "text/html": [
       "<div>\n",
       "<style scoped>\n",
       "    .dataframe tbody tr th:only-of-type {\n",
       "        vertical-align: middle;\n",
       "    }\n",
       "\n",
       "    .dataframe tbody tr th {\n",
       "        vertical-align: top;\n",
       "    }\n",
       "\n",
       "    .dataframe thead th {\n",
       "        text-align: right;\n",
       "    }\n",
       "</style>\n",
       "<table border=\"1\" class=\"dataframe\">\n",
       "  <thead>\n",
       "    <tr style=\"text-align: right;\">\n",
       "      <th></th>\n",
       "      <th>movies</th>\n",
       "      <th>scores</th>\n",
       "    </tr>\n",
       "  </thead>\n",
       "  <tbody>\n",
       "    <tr>\n",
       "      <th>0</th>\n",
       "      <td>Avengers: Infinity War - Part I (2018)</td>\n",
       "      <td>1.000000</td>\n",
       "    </tr>\n",
       "    <tr>\n",
       "      <th>1</th>\n",
       "      <td>Avengers: Infinity War - Part II (2019)</td>\n",
       "      <td>0.987279</td>\n",
       "    </tr>\n",
       "    <tr>\n",
       "      <th>2</th>\n",
       "      <td>Thor: Ragnarok (2017)</td>\n",
       "      <td>0.981357</td>\n",
       "    </tr>\n",
       "    <tr>\n",
       "      <th>3</th>\n",
       "      <td>Captain America: Civil War (2016)</td>\n",
       "      <td>0.978873</td>\n",
       "    </tr>\n",
       "    <tr>\n",
       "      <th>4</th>\n",
       "      <td>Guardians of the Galaxy (2014)</td>\n",
       "      <td>0.976149</td>\n",
       "    </tr>\n",
       "    <tr>\n",
       "      <th>5</th>\n",
       "      <td>Guardians of the Galaxy 2 (2017)</td>\n",
       "      <td>0.960252</td>\n",
       "    </tr>\n",
       "    <tr>\n",
       "      <th>6</th>\n",
       "      <td>Avengers: Age of Ultron (2015)</td>\n",
       "      <td>0.945295</td>\n",
       "    </tr>\n",
       "    <tr>\n",
       "      <th>7</th>\n",
       "      <td>Untitled Spider-Man Reboot (2017)</td>\n",
       "      <td>0.943886</td>\n",
       "    </tr>\n",
       "    <tr>\n",
       "      <th>8</th>\n",
       "      <td>Logan (2017)</td>\n",
       "      <td>0.936165</td>\n",
       "    </tr>\n",
       "    <tr>\n",
       "      <th>9</th>\n",
       "      <td>Star Wars: Dresca</td>\n",
       "      <td>0.933541</td>\n",
       "    </tr>\n",
       "  </tbody>\n",
       "</table>\n",
       "</div>"
      ],
      "text/plain": [
       "                                    movies    scores\n",
       "0   Avengers: Infinity War - Part I (2018)  1.000000\n",
       "1  Avengers: Infinity War - Part II (2019)  0.987279\n",
       "2                    Thor: Ragnarok (2017)  0.981357\n",
       "3        Captain America: Civil War (2016)  0.978873\n",
       "4           Guardians of the Galaxy (2014)  0.976149\n",
       "5         Guardians of the Galaxy 2 (2017)  0.960252\n",
       "6           Avengers: Age of Ultron (2015)  0.945295\n",
       "7        Untitled Spider-Man Reboot (2017)  0.943886\n",
       "8                             Logan (2017)  0.936165\n",
       "9                        Star Wars: Dresca  0.933541"
      ]
     },
     "metadata": {},
     "output_type": "display_data"
    }
   ],
   "source": [
    "for res in movie_query_results.results:\n",
    "    df = pd.DataFrame(\n",
    "        {\n",
    "            'movies': [match.metadata['title'] for match in res.matches],\n",
    "            'scores': [match.score for match in res.matches]\n",
    "        }\n",
    "    )\n",
    "    print(\"Recommendations: \")\n",
    "    display(df)"
   ]
  },
  {
   "attachments": {},
   "cell_type": "markdown",
   "metadata": {},
   "source": [
    "We can observe that it is doing an excellent job in finding similar movies, and it is accomplishing this task very quickly."
   ]
  },
  {
   "cell_type": "markdown",
   "metadata": {},
   "source": [
    "#### User Recommendations"
   ]
  },
  {
   "attachments": {},
   "cell_type": "markdown",
   "metadata": {},
   "source": [
    "Now, let's observe how our vector database behaves when we query it using the user vector.\n",
    "<br>\n",
    "We expect to receive movies that closely resemble the ones that the user rated highly."
   ]
  },
  {
   "cell_type": "code",
   "execution_count": 212,
   "metadata": {},
   "outputs": [],
   "source": [
    "user_id = 3\n",
    "user_vector = user_model(user_id).numpy().tolist()"
   ]
  },
  {
   "attachments": {},
   "cell_type": "markdown",
   "metadata": {},
   "source": [
    "Here, we are defining a function that allows us to easily display the movies that the user rated in the past."
   ]
  },
  {
   "cell_type": "code",
   "execution_count": 213,
   "metadata": {},
   "outputs": [],
   "source": [
    "def top_movies_user_rated(user):\n",
    "    # get list of movies that the user has rated\n",
    "    user_movies = movies_details[movies_details[\"user_id\"] == user]\n",
    "    # order by their top rated movies\n",
    "    top_rated = user_movies.sort_values(by=['rating'], ascending=False)\n",
    "    # return the top 14 movies\n",
    "    return pd.DataFrame(\n",
    "        {\n",
    "            'movies': top_rated['title'].tolist()[:14],\n",
    "            'ratings': top_rated['rating'].tolist()[:14]\n",
    "        }\n",
    "    )"
   ]
  },
  {
   "cell_type": "code",
   "execution_count": 215,
   "metadata": {},
   "outputs": [
    {
     "data": {
      "text/html": [
       "<div>\n",
       "<style scoped>\n",
       "    .dataframe tbody tr th:only-of-type {\n",
       "        vertical-align: middle;\n",
       "    }\n",
       "\n",
       "    .dataframe tbody tr th {\n",
       "        vertical-align: top;\n",
       "    }\n",
       "\n",
       "    .dataframe thead th {\n",
       "        text-align: right;\n",
       "    }\n",
       "</style>\n",
       "<table border=\"1\" class=\"dataframe\">\n",
       "  <thead>\n",
       "    <tr style=\"text-align: right;\">\n",
       "      <th></th>\n",
       "      <th>movies</th>\n",
       "      <th>ratings</th>\n",
       "    </tr>\n",
       "  </thead>\n",
       "  <tbody>\n",
       "    <tr>\n",
       "      <th>0</th>\n",
       "      <td>Big Hero 6 (2014)</td>\n",
       "      <td>4.5</td>\n",
       "    </tr>\n",
       "    <tr>\n",
       "      <th>1</th>\n",
       "      <td>Captain America: Civil War (2016)</td>\n",
       "      <td>4.0</td>\n",
       "    </tr>\n",
       "    <tr>\n",
       "      <th>2</th>\n",
       "      <td>Avengers: Age of Ultron (2015)</td>\n",
       "      <td>4.0</td>\n",
       "    </tr>\n",
       "    <tr>\n",
       "      <th>3</th>\n",
       "      <td>Arrival (2016)</td>\n",
       "      <td>2.5</td>\n",
       "    </tr>\n",
       "    <tr>\n",
       "      <th>4</th>\n",
       "      <td>The Martian (2015)</td>\n",
       "      <td>2.5</td>\n",
       "    </tr>\n",
       "  </tbody>\n",
       "</table>\n",
       "</div>"
      ],
      "text/plain": [
       "                              movies  ratings\n",
       "0                  Big Hero 6 (2014)      4.5\n",
       "1  Captain America: Civil War (2016)      4.0\n",
       "2     Avengers: Age of Ultron (2015)      4.0\n",
       "3                     Arrival (2016)      2.5\n",
       "4                 The Martian (2015)      2.5"
      ]
     },
     "metadata": {},
     "output_type": "display_data"
    }
   ],
   "source": [
    "display(top_movies_user_rated(user_id))"
   ]
  },
  {
   "attachments": {},
   "cell_type": "markdown",
   "metadata": {},
   "source": [
    "And now we can pass our `user_vector` to the query to get the recommendations."
   ]
  },
  {
   "cell_type": "code",
   "execution_count": 214,
   "metadata": {},
   "outputs": [],
   "source": [
    "query_results = grpc_index.query(queries=[user_vector], top_k=10, include_metadata=True)"
   ]
  },
  {
   "cell_type": "code",
   "execution_count": 216,
   "metadata": {},
   "outputs": [
    {
     "name": "stdout",
     "output_type": "stream",
     "text": [
      "Recommendations: \n"
     ]
    },
    {
     "data": {
      "text/html": [
       "<div>\n",
       "<style scoped>\n",
       "    .dataframe tbody tr th:only-of-type {\n",
       "        vertical-align: middle;\n",
       "    }\n",
       "\n",
       "    .dataframe tbody tr th {\n",
       "        vertical-align: top;\n",
       "    }\n",
       "\n",
       "    .dataframe thead th {\n",
       "        text-align: right;\n",
       "    }\n",
       "</style>\n",
       "<table border=\"1\" class=\"dataframe\">\n",
       "  <thead>\n",
       "    <tr style=\"text-align: right;\">\n",
       "      <th></th>\n",
       "      <th>movies</th>\n",
       "      <th>scores</th>\n",
       "    </tr>\n",
       "  </thead>\n",
       "  <tbody>\n",
       "    <tr>\n",
       "      <th>0</th>\n",
       "      <td>Big Hero 6 (2014)</td>\n",
       "      <td>0.854731</td>\n",
       "    </tr>\n",
       "    <tr>\n",
       "      <th>1</th>\n",
       "      <td>Captain America: Civil War (2016)</td>\n",
       "      <td>0.849430</td>\n",
       "    </tr>\n",
       "    <tr>\n",
       "      <th>2</th>\n",
       "      <td>Avengers: Age of Ultron (2015)</td>\n",
       "      <td>0.834037</td>\n",
       "    </tr>\n",
       "    <tr>\n",
       "      <th>3</th>\n",
       "      <td>The Witch Files (2018)</td>\n",
       "      <td>0.830561</td>\n",
       "    </tr>\n",
       "    <tr>\n",
       "      <th>4</th>\n",
       "      <td>Avengers: Infinity War - Part I (2018)</td>\n",
       "      <td>0.829733</td>\n",
       "    </tr>\n",
       "    <tr>\n",
       "      <th>5</th>\n",
       "      <td>Untitled Spider-Man Reboot (2017)</td>\n",
       "      <td>0.825950</td>\n",
       "    </tr>\n",
       "    <tr>\n",
       "      <th>6</th>\n",
       "      <td>Monster High: 13 Wishes (2013)</td>\n",
       "      <td>0.824344</td>\n",
       "    </tr>\n",
       "    <tr>\n",
       "      <th>7</th>\n",
       "      <td>Guardians of the Galaxy 2 (2017)</td>\n",
       "      <td>0.822629</td>\n",
       "    </tr>\n",
       "    <tr>\n",
       "      <th>8</th>\n",
       "      <td>Lovestruck: The Musical (2013)</td>\n",
       "      <td>0.820314</td>\n",
       "    </tr>\n",
       "    <tr>\n",
       "      <th>9</th>\n",
       "      <td>Spider-Man: Far from Home (2019)</td>\n",
       "      <td>0.820075</td>\n",
       "    </tr>\n",
       "  </tbody>\n",
       "</table>\n",
       "</div>"
      ],
      "text/plain": [
       "                                   movies    scores\n",
       "0                       Big Hero 6 (2014)  0.854731\n",
       "1       Captain America: Civil War (2016)  0.849430\n",
       "2          Avengers: Age of Ultron (2015)  0.834037\n",
       "3                  The Witch Files (2018)  0.830561\n",
       "4  Avengers: Infinity War - Part I (2018)  0.829733\n",
       "5       Untitled Spider-Man Reboot (2017)  0.825950\n",
       "6          Monster High: 13 Wishes (2013)  0.824344\n",
       "7        Guardians of the Galaxy 2 (2017)  0.822629\n",
       "8          Lovestruck: The Musical (2013)  0.820314\n",
       "9        Spider-Man: Far from Home (2019)  0.820075"
      ]
     },
     "metadata": {},
     "output_type": "display_data"
    }
   ],
   "source": [
    "for res in query_results.results:\n",
    "    df = pd.DataFrame(\n",
    "        {\n",
    "            'movies': [match.metadata['title'] for match in res.matches],\n",
    "            'scores': [match.score for match in res.matches]\n",
    "        }\n",
    "    )\n",
    "    print(\"Recommendations: \")\n",
    "    display(df)"
   ]
  },
  {
   "attachments": {},
   "cell_type": "markdown",
   "metadata": {},
   "source": [
    "Again, we can observe that these recommendations strongly resemble the movies that the user rated highly, and there are no movies similar to the ones that the user rated with a low value."
   ]
  },
  {
   "attachments": {},
   "cell_type": "markdown",
   "metadata": {},
   "source": [
    "## Summary\n",
    "\n",
    "The notebook demonstrated the step-by-step process of creating and populating an index in the vector database. It covered aspects such as specifying the index name, similarity metric, and vector dimensions. The example also included instructions on checking if an index exists, deleting and creating new indexes when necessary.\n",
    "\n",
    "Furthermore, the notebook illustrated the usage of embedding models to generate vector representations of both users and items. The results showed that the recommendations closely resembled the movies that the user rated highly, and dissimilar movies were not included.\n",
    "\n",
    "Overall, this example showcased the power and efficiency of vector databases in recommendation systems. It is important to note that the benefits of vector databases extend beyond movies and can be applied to various types of items, making them a valuable tool in building effective recommendation systems."
   ]
  }
 ],
 "metadata": {
  "kernelspec": {
   "display_name": "pinecone-onboarding",
   "language": "python",
   "name": "python3"
  },
  "language_info": {
   "codemirror_mode": {
    "name": "ipython",
    "version": 3
   },
   "file_extension": ".py",
   "mimetype": "text/x-python",
   "name": "python",
   "nbconvert_exporter": "python",
   "pygments_lexer": "ipython3",
   "version": "3.8.16"
  },
  "orig_nbformat": 4
 },
 "nbformat": 4,
 "nbformat_minor": 2
}
